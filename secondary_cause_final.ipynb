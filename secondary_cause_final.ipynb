{
 "cells": [
  {
   "cell_type": "markdown",
   "metadata": {},
   "source": [
    "# DS 5559 Group 1: Secondary Cause of Death Model\n",
    "\n",
    "This model will attempt to predict the secondary cause of death listed in the Multiple Cause Mortality dataset."
   ]
  },
  {
   "cell_type": "markdown",
   "metadata": {},
   "source": [
    "## Setup"
   ]
  },
  {
   "cell_type": "code",
   "execution_count": 1,
   "metadata": {},
   "outputs": [],
   "source": [
    "from pyspark.sql import SparkSession\n",
    "spark = SparkSession.builder \\\n",
    "        .master(\"local[*]\") \\\n",
    "        .appName(\"secondary_cause_final\") \\\n",
    "        .getOrCreate()"
   ]
  },
  {
   "cell_type": "code",
   "execution_count": 2,
   "metadata": {},
   "outputs": [],
   "source": [
    "df_train = spark.read.option(\"header\",True).option(\"inferSchema\",True).csv(\"train_data\")\n",
    "df_test = spark.read.option(\"header\",True).option(\"inferSchema\",True).csv(\"test_data\")"
   ]
  },
  {
   "cell_type": "code",
   "execution_count": 3,
   "metadata": {},
   "outputs": [
    {
     "data": {
      "text/plain": [
       "2200579"
      ]
     },
     "execution_count": 3,
     "metadata": {},
     "output_type": "execute_result"
    }
   ],
   "source": [
    "df_train.count()"
   ]
  },
  {
   "cell_type": "markdown",
   "metadata": {},
   "source": [
    "## Preprocessing"
   ]
  },
  {
   "cell_type": "code",
   "execution_count": 4,
   "metadata": {},
   "outputs": [],
   "source": [
    "# drop records without secondary cause of death listerd\n",
    "\n",
    "df_train = df_train.filter(df_train.mcd_2_R.isNotNull())\n",
    "df_test = df_test.filter(df_test.mcd_2_R.isNotNull())"
   ]
  },
  {
   "cell_type": "code",
   "execution_count": 5,
   "metadata": {},
   "outputs": [
    {
     "data": {
      "text/plain": [
       "1690328"
      ]
     },
     "execution_count": 5,
     "metadata": {},
     "output_type": "execute_result"
    }
   ],
   "source": [
    "df_train.count()"
   ]
  },
  {
   "cell_type": "code",
   "execution_count": 6,
   "metadata": {},
   "outputs": [],
   "source": [
    "# change age value coded as unknown (999) to null\n",
    "\n",
    "from pyspark.sql.functions import when, lit, col, isnan, count\n",
    "\n",
    "def replace(column, value):\n",
    "    return when(column != value, column)\n",
    "\n",
    "df_train = df_train.withColumn(\"age\", replace(col(\"age\"), 999))\n",
    "df_test = df_test.withColumn(\"age\", replace(col(\"age\"), 999))"
   ]
  },
  {
   "cell_type": "code",
   "execution_count": 7,
   "metadata": {},
   "outputs": [],
   "source": [
    "# keeping arbitrary variables to build simple model\n",
    "\n",
    "vars_to_keep = [\"mcd_2_R\",\n",
    "               \"education\",\n",
    "               \"age\",\n",
    "               \"mcd_1_R\",\n",
    "               \"race\"]\n",
    "\n",
    "df_train = df_train.select(vars_to_keep)\n",
    "df_test = df_test.select(vars_to_keep)\n",
    "#df_train.show(5)"
   ]
  },
  {
   "cell_type": "code",
   "execution_count": 8,
   "metadata": {},
   "outputs": [],
   "source": [
    "# simplify icd codes to first letter\n",
    "df_train = df_train.withColumn(\"mcd_2_R\", df_train[\"mcd_2_R\"].substr(0,1))\n",
    "df_test = df_test.withColumn(\"mcd_2_R\", df_test[\"mcd_2_R\"].substr(0,1))"
   ]
  },
  {
   "cell_type": "code",
   "execution_count": 9,
   "metadata": {},
   "outputs": [],
   "source": [
    "df_train = df_train.withColumn(\"mcd_1_R\", df_train[\"mcd_1_R\"].substr(0,1))\n",
    "df_test = df_test.withColumn(\"mcd_1_R\", df_test[\"mcd_1_R\"].substr(0,1))"
   ]
  },
  {
   "cell_type": "code",
   "execution_count": 10,
   "metadata": {},
   "outputs": [
    {
     "name": "stdout",
     "output_type": "stream",
     "text": [
      "+-------+---------+---+-------+----+\n",
      "|mcd_2_R|education|age|mcd_1_R|race|\n",
      "+-------+---------+---+-------+----+\n",
      "|      R|       14| 94|      F|   1|\n",
      "|      F|       12| 70|      J|   1|\n",
      "+-------+---------+---+-------+----+\n",
      "only showing top 2 rows\n",
      "\n"
     ]
    }
   ],
   "source": [
    "df_train.show(2)"
   ]
  },
  {
   "cell_type": "code",
   "execution_count": 11,
   "metadata": {},
   "outputs": [],
   "source": [
    "# remove mcd_1_R == 'U' (only 2 observations)\n",
    "df_train = df_train.filter(df_train.mcd_1_R != 'U')"
   ]
  },
  {
   "cell_type": "markdown",
   "metadata": {},
   "source": [
    "## Exploratory Data Analysis"
   ]
  },
  {
   "cell_type": "code",
   "execution_count": 12,
   "metadata": {},
   "outputs": [
    {
     "name": "stdout",
     "output_type": "stream",
     "text": [
      "+-------+------+\n",
      "|mcd_2_R| count|\n",
      "+-------+------+\n",
      "|      I|470805|\n",
      "|      F|280709|\n",
      "|      E|220250|\n",
      "|      A|137436|\n",
      "|      J|113066|\n",
      "|      C|109459|\n",
      "|      R| 69204|\n",
      "|      T| 66595|\n",
      "|      G| 53671|\n",
      "|      S| 47935|\n",
      "|      D| 46776|\n",
      "|      K| 24097|\n",
      "|      N| 20413|\n",
      "|      B| 17183|\n",
      "|      P|  5091|\n",
      "|      M|  3350|\n",
      "|      L|  1555|\n",
      "|      Q|  1056|\n",
      "|      H|   672|\n",
      "|      O|   671|\n",
      "|      Y|   175|\n",
      "|      W|   153|\n",
      "|      V|     2|\n",
      "|      X|     2|\n",
      "+-------+------+\n",
      "\n"
     ]
    }
   ],
   "source": [
    "df_train.groupby(\"mcd_2_R\").count().orderBy('count', ascending=False).show(25)"
   ]
  },
  {
   "cell_type": "code",
   "execution_count": 13,
   "metadata": {},
   "outputs": [
    {
     "name": "stdout",
     "output_type": "stream",
     "text": [
      "+-------+------+\n",
      "|mcd_1_R| count|\n",
      "+-------+------+\n",
      "|      I|532864|\n",
      "|      C|297260|\n",
      "|      J|182532|\n",
      "|      G|104498|\n",
      "|      X|102089|\n",
      "|      E| 92562|\n",
      "|      F| 83157|\n",
      "|      K| 70352|\n",
      "|      N| 45083|\n",
      "|      W| 38347|\n",
      "|      A| 37100|\n",
      "|      V| 32804|\n",
      "|      D| 16730|\n",
      "|      B| 11719|\n",
      "|      Y| 11194|\n",
      "|      M| 10096|\n",
      "|      Q|  6812|\n",
      "|      R|  6657|\n",
      "|      P|  4286|\n",
      "|      L|  3732|\n",
      "|      O|   348|\n",
      "|      H|   104|\n",
      "+-------+------+\n",
      "\n"
     ]
    }
   ],
   "source": [
    "df_train.groupby(\"mcd_1_R\").count().orderBy('count', ascending=False).show(25)"
   ]
  },
  {
   "cell_type": "code",
   "execution_count": 14,
   "metadata": {},
   "outputs": [
    {
     "name": "stdout",
     "output_type": "stream",
     "text": [
      "+-------+------+\n",
      "|mcd_1_R| count|\n",
      "+-------+------+\n",
      "|      I|133376|\n",
      "|      C| 74758|\n",
      "|      J| 46038|\n",
      "|      G| 26091|\n",
      "|      X| 25570|\n",
      "|      E| 23056|\n",
      "|      F| 20530|\n",
      "|      K| 17441|\n",
      "|      N| 11476|\n",
      "|      W|  9472|\n",
      "|      A|  9444|\n",
      "|      V|  8271|\n",
      "|      D|  4202|\n",
      "|      B|  2907|\n",
      "|      Y|  2777|\n",
      "|      M|  2588|\n",
      "|      Q|  1625|\n",
      "|      R|  1624|\n",
      "|      P|  1064|\n",
      "|      L|   940|\n",
      "|      O|    77|\n",
      "|      H|    21|\n",
      "+-------+------+\n",
      "\n"
     ]
    }
   ],
   "source": [
    "df_test.groupby(\"mcd_1_R\").count().orderBy('count', ascending=False).show(25)"
   ]
  },
  {
   "cell_type": "markdown",
   "metadata": {},
   "source": [
    "### One Hot Encoding"
   ]
  },
  {
   "cell_type": "markdown",
   "metadata": {},
   "source": [
    "Code to apply StrinIndexer to to several columns in a Pyspark df: https://stackoverflow.com/questions/36942233/apply-stringindexer-to-several-columns-in-a-pyspark-dataframe"
   ]
  },
  {
   "cell_type": "code",
   "execution_count": 15,
   "metadata": {},
   "outputs": [],
   "source": [
    "from pyspark.ml import Pipeline\n",
    "from pyspark.ml.feature import OneHotEncoder, StringIndexer"
   ]
  },
  {
   "cell_type": "code",
   "execution_count": 16,
   "metadata": {},
   "outputs": [],
   "source": [
    "train_indexer = [StringIndexer(inputCol=column, outputCol=column+\"_index\", handleInvalid = \"skip\").fit(df_train) for column in list(set(df_train.columns)-set(['age']))]\n",
    "test_indexer = [StringIndexer(inputCol=column, outputCol=column+\"_index\", handleInvalid = \"skip\").fit(df_test) for column in list(set(df_test.columns)-set(['age']))]"
   ]
  },
  {
   "cell_type": "code",
   "execution_count": 17,
   "metadata": {},
   "outputs": [],
   "source": [
    "train_pipeline = Pipeline(stages=train_indexer)\n",
    "test_pipeline = Pipeline(stages=test_indexer)\n",
    "df_train_indexed = train_pipeline.fit(df_train).transform(df_train)\n",
    "df_test_indexed = test_pipeline.fit(df_test).transform(df_test)"
   ]
  },
  {
   "cell_type": "code",
   "execution_count": 18,
   "metadata": {},
   "outputs": [],
   "source": [
    "# df_test_indexed.show()"
   ]
  },
  {
   "cell_type": "code",
   "execution_count": 19,
   "metadata": {},
   "outputs": [],
   "source": [
    "# applying a similar method using OneHotEncoder\n",
    "\n",
    "train_encoder = [OneHotEncoder(inputCol=column, outputCol=column+\"_Vec\") for column in df_train_indexed.columns[5:]]\n",
    "test_encoder = [OneHotEncoder(inputCol=column, outputCol=column+\"_Vec\") for column in df_test_indexed.columns[5:]]"
   ]
  },
  {
   "cell_type": "code",
   "execution_count": 20,
   "metadata": {},
   "outputs": [],
   "source": [
    "train_pipeline2 = Pipeline(stages=train_encoder)\n",
    "test_pipeline2 = Pipeline(stages=test_encoder)\n",
    "df_train_encoded = train_pipeline2.fit(df_train_indexed).transform(df_train_indexed)\n",
    "df_test_encoded = test_pipeline2.fit(df_test_indexed).transform(df_test_indexed)"
   ]
  },
  {
   "cell_type": "code",
   "execution_count": 21,
   "metadata": {},
   "outputs": [
    {
     "name": "stdout",
     "output_type": "stream",
     "text": [
      "+-------+---------+---+-------+----+-------------+-------------+---------------+----------+-----------------+-----------------+-------------------+--------------+\n",
      "|mcd_2_R|education|age|mcd_1_R|race|mcd_1_R_index|mcd_2_R_index|education_index|race_index|mcd_1_R_index_Vec|mcd_2_R_index_Vec|education_index_Vec|race_index_Vec|\n",
      "+-------+---------+---+-------+----+-------------+-------------+---------------+----------+-----------------+-----------------+-------------------+--------------+\n",
      "|      R|       14| 94|      F|   1|          6.0|          6.0|            9.0|       0.0|   (21,[6],[1.0])|   (23,[6],[1.0])|     (16,[9],[1.0])|(13,[0],[1.0])|\n",
      "|      F|       12| 70|      J|   1|          2.0|          1.0|            8.0|       0.0|   (21,[2],[1.0])|   (23,[1],[1.0])|     (16,[8],[1.0])|(13,[0],[1.0])|\n",
      "|      I|       16| 88|      I|   1|          0.0|          0.0|           10.0|       0.0|   (21,[0],[1.0])|   (23,[0],[1.0])|    (16,[10],[1.0])|(13,[0],[1.0])|\n",
      "|      C|       12| 77|      C|   1|          1.0|          5.0|            8.0|       0.0|   (21,[1],[1.0])|   (23,[5],[1.0])|     (16,[8],[1.0])|(13,[0],[1.0])|\n",
      "|      F|       12| 46|      F|   1|          6.0|          1.0|            8.0|       0.0|   (21,[6],[1.0])|   (23,[1],[1.0])|     (16,[8],[1.0])|(13,[0],[1.0])|\n",
      "+-------+---------+---+-------+----+-------------+-------------+---------------+----------+-----------------+-----------------+-------------------+--------------+\n",
      "only showing top 5 rows\n",
      "\n"
     ]
    }
   ],
   "source": [
    "df_train_encoded.show(5)"
   ]
  },
  {
   "cell_type": "code",
   "execution_count": 22,
   "metadata": {},
   "outputs": [
    {
     "name": "stdout",
     "output_type": "stream",
     "text": [
      "+-------+---------+---+-------+----+-------------+-------------+---------------+----------+-----------------+-----------------+-------------------+---------------+\n",
      "|mcd_2_R|education|age|mcd_1_R|race|mcd_1_R_index|mcd_2_R_index|education_index|race_index|mcd_1_R_index_Vec|mcd_2_R_index_Vec|education_index_Vec| race_index_Vec|\n",
      "+-------+---------+---+-------+----+-------------+-------------+---------------+----------+-----------------+-----------------+-------------------+---------------+\n",
      "|      C|        1| 82|      C|   2|          1.0|          5.0|            3.0|       1.0|   (21,[1],[1.0])|   (23,[5],[1.0])|     (16,[3],[1.0])| (13,[1],[1.0])|\n",
      "|      A|        1| 74|      E|   1|          5.0|          3.0|            3.0|       0.0|   (21,[5],[1.0])|   (23,[3],[1.0])|     (16,[3],[1.0])| (13,[0],[1.0])|\n",
      "|      I|        2| 70|      I|  38|          0.0|          0.0|            2.0|      12.0|   (21,[0],[1.0])|   (23,[0],[1.0])|     (16,[2],[1.0])|(13,[12],[1.0])|\n",
      "|      F|        3| 89|      C|   1|          1.0|          1.0|            0.0|       0.0|   (21,[1],[1.0])|   (23,[1],[1.0])|     (16,[0],[1.0])| (13,[0],[1.0])|\n",
      "|      E|        3| 67|      I|   2|          0.0|          2.0|            0.0|       1.0|   (21,[0],[1.0])|   (23,[2],[1.0])|     (16,[0],[1.0])| (13,[1],[1.0])|\n",
      "+-------+---------+---+-------+----+-------------+-------------+---------------+----------+-----------------+-----------------+-------------------+---------------+\n",
      "only showing top 5 rows\n",
      "\n"
     ]
    }
   ],
   "source": [
    "df_test_encoded.show(5)"
   ]
  },
  {
   "cell_type": "code",
   "execution_count": 23,
   "metadata": {},
   "outputs": [],
   "source": [
    "# create map of icd codes and corresponding index values\n",
    "\n",
    "codemap = df_train_encoded.select(\"mcd_2_R\", \"mcd_2_R_index\").distinct()"
   ]
  },
  {
   "cell_type": "code",
   "execution_count": 24,
   "metadata": {},
   "outputs": [
    {
     "name": "stdout",
     "output_type": "stream",
     "text": [
      "+-------+-------------+\n",
      "|mcd_2_R|mcd_2_R_index|\n",
      "+-------+-------------+\n",
      "|      W|         21.0|\n",
      "|      X|         22.0|\n",
      "|      N|         12.0|\n",
      "|      C|          5.0|\n",
      "|      A|          3.0|\n",
      "|      B|         13.0|\n",
      "|      O|         19.0|\n",
      "|      T|          7.0|\n",
      "|      F|          1.0|\n",
      "|      D|         10.0|\n",
      "|      E|          2.0|\n",
      "|      Y|         20.0|\n",
      "|      V|         23.0|\n",
      "|      R|          6.0|\n",
      "|      K|         11.0|\n",
      "|      Q|         17.0|\n",
      "|      P|         14.0|\n",
      "|      J|          4.0|\n",
      "|      I|          0.0|\n",
      "|      S|          9.0|\n",
      "|      H|         18.0|\n",
      "|      L|         16.0|\n",
      "|      M|         15.0|\n",
      "|      G|          8.0|\n",
      "+-------+-------------+\n",
      "\n"
     ]
    }
   ],
   "source": [
    "codemap.show(25)"
   ]
  },
  {
   "cell_type": "code",
   "execution_count": 25,
   "metadata": {},
   "outputs": [],
   "source": [
    "# test models with age, education not encoded\n",
    "\n",
    "# vars_to_keep2 = [\"mcd_2_R_index\",\n",
    "#                \"education\",\n",
    "#                \"age\",\n",
    "#                \"mcd_1_R_index_Vec\",\n",
    "#                \"race\"]\n",
    "\n",
    "# df_train = df_train_encoded.select(vars_to_keep2)\n",
    "# df_test = df_test_encoded.select(vars_to_keep2)\n",
    "# df_test.show(5)"
   ]
  },
  {
   "cell_type": "code",
   "execution_count": 26,
   "metadata": {},
   "outputs": [
    {
     "name": "stdout",
     "output_type": "stream",
     "text": [
      "+-------------+-------------------+---+-----------------+---------------+\n",
      "|mcd_2_R_index|education_index_Vec|age|mcd_1_R_index_Vec| race_index_Vec|\n",
      "+-------------+-------------------+---+-----------------+---------------+\n",
      "|          5.0|     (16,[3],[1.0])| 82|   (21,[1],[1.0])| (13,[1],[1.0])|\n",
      "|          3.0|     (16,[3],[1.0])| 74|   (21,[5],[1.0])| (13,[0],[1.0])|\n",
      "|          0.0|     (16,[2],[1.0])| 70|   (21,[0],[1.0])|(13,[12],[1.0])|\n",
      "|          1.0|     (16,[0],[1.0])| 89|   (21,[1],[1.0])| (13,[0],[1.0])|\n",
      "|          2.0|     (16,[0],[1.0])| 67|   (21,[0],[1.0])| (13,[1],[1.0])|\n",
      "+-------------+-------------------+---+-----------------+---------------+\n",
      "only showing top 5 rows\n",
      "\n"
     ]
    }
   ],
   "source": [
    "# test models with age, education encoded\n",
    "\n",
    "vars_to_keep2 = [\"mcd_2_R_index\",\n",
    "               \"education_index_Vec\",\n",
    "               \"age\",\n",
    "               \"mcd_1_R_index_Vec\",\n",
    "               \"race_index_Vec\"]\n",
    "\n",
    "df_train = df_train_encoded.select(vars_to_keep2)\n",
    "df_test = df_test_encoded.select(vars_to_keep2)\n",
    "df_test.show(5)"
   ]
  },
  {
   "cell_type": "code",
   "execution_count": 27,
   "metadata": {},
   "outputs": [],
   "source": [
    "# df_train_model1.select([count(when(col(c).isNull(), c)).alias(c) for c in df_train_model1.columns]).show()"
   ]
  },
  {
   "cell_type": "code",
   "execution_count": 28,
   "metadata": {},
   "outputs": [],
   "source": [
    "# df_train.count()"
   ]
  },
  {
   "cell_type": "code",
   "execution_count": 29,
   "metadata": {},
   "outputs": [],
   "source": [
    "from pyspark.ml.feature import VectorAssembler"
   ]
  },
  {
   "cell_type": "code",
   "execution_count": 30,
   "metadata": {},
   "outputs": [],
   "source": [
    "assembler1 = VectorAssembler(inputCols = [cols for cols in df_train.columns[1:]], outputCol = \"features\")\n",
    "assembler2 = VectorAssembler(inputCols = [cols for cols in df_test.columns[1:]], outputCol = \"features\")"
   ]
  },
  {
   "cell_type": "code",
   "execution_count": 31,
   "metadata": {},
   "outputs": [],
   "source": [
    "df_train = assembler1.setHandleInvalid(\"skip\").transform(df_train)\n",
    "df_test = assembler2.setHandleInvalid(\"skip\").transform(df_test)"
   ]
  },
  {
   "cell_type": "code",
   "execution_count": 32,
   "metadata": {},
   "outputs": [],
   "source": [
    "# df3 = df3.na.drop()"
   ]
  },
  {
   "cell_type": "code",
   "execution_count": 33,
   "metadata": {},
   "outputs": [],
   "source": [
    "# df_test.select(\"features\").show(truncate = False)"
   ]
  },
  {
   "cell_type": "code",
   "execution_count": 34,
   "metadata": {},
   "outputs": [],
   "source": [
    "# df3 = df3.withColumn(\"mcd_2_R_index\", df3[\"mcd_2_R_index\"].cast('integer'))"
   ]
  },
  {
   "cell_type": "code",
   "execution_count": 35,
   "metadata": {},
   "outputs": [],
   "source": [
    "cleanup_train = df_train.select(\"mcd_2_R_index\", \"features\")\n",
    "cleanup_test = df_test.select(\"mcd_2_R_index\", \"features\")"
   ]
  },
  {
   "cell_type": "markdown",
   "metadata": {},
   "source": [
    "### Additional Split for training and testing"
   ]
  },
  {
   "cell_type": "code",
   "execution_count": 36,
   "metadata": {},
   "outputs": [],
   "source": [
    "train_data, test_data = cleanup_train.randomSplit(weights = [0.8, 0.2], seed = 314)"
   ]
  },
  {
   "cell_type": "markdown",
   "metadata": {},
   "source": [
    "### Downsampling"
   ]
  },
  {
   "cell_type": "code",
   "execution_count": 37,
   "metadata": {},
   "outputs": [
    {
     "name": "stdout",
     "output_type": "stream",
     "text": [
      "+-------------+------+\n",
      "|mcd_2_R_index| count|\n",
      "+-------------+------+\n",
      "|         22.0|     1|\n",
      "|         23.0|     2|\n",
      "|         21.0|   115|\n",
      "|         20.0|   136|\n",
      "|         18.0|   525|\n",
      "|         19.0|   529|\n",
      "|         17.0|   765|\n",
      "|         16.0|  1229|\n",
      "|         15.0|  2646|\n",
      "|         14.0|  3583|\n",
      "|         13.0| 13213|\n",
      "|         12.0| 15882|\n",
      "|         11.0| 18703|\n",
      "|         10.0| 36549|\n",
      "|          9.0| 37601|\n",
      "|          8.0| 42044|\n",
      "|          7.0| 51856|\n",
      "|          6.0| 53925|\n",
      "|          5.0| 86044|\n",
      "|          4.0| 88341|\n",
      "|          3.0|106920|\n",
      "|          2.0|171791|\n",
      "+-------------+------+\n",
      "only showing top 22 rows\n",
      "\n"
     ]
    }
   ],
   "source": [
    "train_data.groupby(\"mcd_2_R_index\").count().sort('count').show(22)"
   ]
  },
  {
   "cell_type": "code",
   "execution_count": 38,
   "metadata": {},
   "outputs": [],
   "source": [
    "train_data = train_data.filter(train_data.mcd_2_R_index != 23)\n",
    "train_data = train_data.filter(train_data.mcd_2_R_index != 22)\n",
    "train_data = train_data.filter(train_data.mcd_2_R_index != 21)\n",
    "train_data = train_data.filter(train_data.mcd_2_R_index != 20)"
   ]
  },
  {
   "cell_type": "code",
   "execution_count": 39,
   "metadata": {},
   "outputs": [
    {
     "name": "stdout",
     "output_type": "stream",
     "text": [
      "+-------------+------+\n",
      "|mcd_2_R_index| count|\n",
      "+-------------+------+\n",
      "|         18.0|   525|\n",
      "|         19.0|   529|\n",
      "|         17.0|   765|\n",
      "|         16.0|  1229|\n",
      "|         15.0|  2646|\n",
      "|         14.0|  3583|\n",
      "|         13.0| 13213|\n",
      "|         12.0| 15882|\n",
      "|         11.0| 18703|\n",
      "|         10.0| 36549|\n",
      "|          9.0| 37601|\n",
      "|          8.0| 42044|\n",
      "|          7.0| 51856|\n",
      "|          6.0| 53925|\n",
      "|          5.0| 86044|\n",
      "|          4.0| 88341|\n",
      "|          3.0|106920|\n",
      "|          2.0|171791|\n",
      "|          1.0|218297|\n",
      "|          0.0|366725|\n",
      "+-------------+------+\n",
      "\n"
     ]
    }
   ],
   "source": [
    "train_data.groupby(\"mcd_2_R_index\").count().sort('count').show(25)"
   ]
  },
  {
   "cell_type": "code",
   "execution_count": 40,
   "metadata": {},
   "outputs": [],
   "source": [
    "# cleanup_test.groupby(\"mcd_2_R_index\").count().sort('count').show(25)"
   ]
  },
  {
   "cell_type": "code",
   "execution_count": 41,
   "metadata": {},
   "outputs": [],
   "source": [
    "# cleanup_test = cleanup_test.filter(cleanup_test.mcd_2_R_index != 23)\n",
    "# cleanup_test = cleanup_test.filter(cleanup_test.mcd_2_R_index != 22)\n",
    "# cleanup_test = cleanup_test.filter(cleanup_test.mcd_2_R_index != 21)\n",
    "# cleanup_test = cleanup_test.filter(cleanup_test.mcd_2_R_index != 20)"
   ]
  },
  {
   "cell_type": "code",
   "execution_count": 42,
   "metadata": {},
   "outputs": [],
   "source": [
    "# cleanup_test.groupby(\"mcd_2_R_index\").count().sort('count').show(25)"
   ]
  },
  {
   "cell_type": "code",
   "execution_count": 43,
   "metadata": {},
   "outputs": [],
   "source": [
    "# write function to do downsampling\n",
    "\n",
    "def downSample(df, target, seed):\n",
    "    \n",
    "    # gather counts of each class \n",
    "    class_counts = df.groupby(target).count()\n",
    "\n",
    "    # select smallest count size and corresponding class\n",
    "    smallest_class_size = class_counts.agg({'count': 'min'})\n",
    "    smallest_class_size = smallest_class_size.collect()[0]['min(count)']\n",
    "\n",
    "    class_counts = class_counts.withColumn('min', lit(smallest_class_size))\n",
    "    class_counts = class_counts.withColumn('ratio', class_counts['min']/ class_counts['count'])\n",
    "\n",
    "    smallest_class = class_counts.filter(class_counts['count'] == class_counts['min']).collect()[0][target]\n",
    "    \n",
    "    # set up final dataframe to hold results - with only the smallest class to start\n",
    "    adjusted_df = df.filter(df[target] == smallest_class)\n",
    "\n",
    "    # iterate over outcome classes, sampling to match count of smallest class\n",
    "    for i in range(class_counts.count()):\n",
    "\n",
    "        outcome_class = class_counts.collect()[i][target]\n",
    "        ratio = class_counts.collect()[i]['ratio']\n",
    "\n",
    "        if outcome_class != smallest_class: \n",
    "\n",
    "            subset = df.filter(df[target] == outcome_class)\n",
    "            subset_adjusted = subset.sample(False, ratio, seed = seed)\n",
    "\n",
    "            adjusted_df = adjusted_df.unionAll(subset_adjusted)\n",
    "        else:\n",
    "            adjusted_df = adjusted_df\n",
    "\n",
    "    return adjusted_df"
   ]
  },
  {
   "cell_type": "code",
   "execution_count": 44,
   "metadata": {},
   "outputs": [
    {
     "name": "stdout",
     "output_type": "stream",
     "text": [
      "+-------------+-----+\n",
      "|mcd_2_R_index|count|\n",
      "+-------------+-----+\n",
      "|          0.0|  504|\n",
      "|         17.0|  514|\n",
      "|          1.0|  519|\n",
      "|          2.0|  522|\n",
      "|         19.0|  523|\n",
      "|         18.0|  525|\n",
      "|         16.0|  528|\n",
      "|          3.0|  532|\n",
      "|         12.0|  539|\n",
      "|         11.0|  552|\n",
      "|         13.0|  555|\n",
      "|          8.0|  556|\n",
      "|         15.0|  559|\n",
      "|         14.0|  565|\n",
      "|          4.0|  566|\n",
      "|         10.0|  573|\n",
      "|          7.0|  575|\n",
      "|          5.0|  578|\n",
      "|          6.0|  580|\n",
      "|          9.0|  581|\n",
      "+-------------+-----+\n",
      "\n"
     ]
    }
   ],
   "source": [
    "adj_train = downSample(df = train_data, target = 'mcd_2_R_index', seed = 4)\n",
    "adj_train.groupby(\"mcd_2_R_index\").count().sort('count').show()"
   ]
  },
  {
   "cell_type": "code",
   "execution_count": 45,
   "metadata": {},
   "outputs": [
    {
     "data": {
      "text/plain": [
       "DataFrame[mcd_2_R_index: double, features: vector]"
      ]
     },
     "execution_count": 45,
     "metadata": {},
     "output_type": "execute_result"
    }
   ],
   "source": [
    "# cache to improve performance\n",
    "adj_train.cache()"
   ]
  },
  {
   "cell_type": "markdown",
   "metadata": {},
   "source": [
    "### Model Building"
   ]
  },
  {
   "cell_type": "code",
   "execution_count": 46,
   "metadata": {},
   "outputs": [],
   "source": [
    "from pyspark.ml.tuning import CrossValidator, ParamGridBuilder, CrossValidatorModel\n",
    "from pyspark.ml.evaluation import MulticlassClassificationEvaluator\n",
    "from pyspark.ml.classification import LogisticRegression"
   ]
  },
  {
   "cell_type": "code",
   "execution_count": 47,
   "metadata": {},
   "outputs": [],
   "source": [
    "lr = LogisticRegression(featuresCol = \"features\", labelCol = \"mcd_2_R_index\", maxIter=10, family = \"multinomial\")"
   ]
  },
  {
   "cell_type": "code",
   "execution_count": 48,
   "metadata": {},
   "outputs": [],
   "source": [
    "lrModel = lr.fit(train_data)"
   ]
  },
  {
   "cell_type": "code",
   "execution_count": 49,
   "metadata": {},
   "outputs": [],
   "source": [
    "# Model summary\n",
    "trainingSummary = lrModel.summary"
   ]
  },
  {
   "cell_type": "code",
   "execution_count": 50,
   "metadata": {},
   "outputs": [
    {
     "name": "stdout",
     "output_type": "stream",
     "text": [
      "Accuracy: 0.3384898509529536\n",
      "FPR: 0.16721900382266383\n",
      "TPR: 0.3384898509529536\n",
      "F-measure: 0.25061332765857075\n",
      "Precision: 0.266103250946215\n",
      "Recall: 0.3384898509529536\n"
     ]
    }
   ],
   "source": [
    "accuracy = trainingSummary.accuracy\n",
    "falsePositiveRate = trainingSummary.weightedFalsePositiveRate\n",
    "truePositiveRate = trainingSummary.weightedTruePositiveRate\n",
    "fMeasure = trainingSummary.weightedFMeasure()\n",
    "precision = trainingSummary.weightedPrecision\n",
    "recall = trainingSummary.weightedRecall\n",
    "print(\"Accuracy: %s\\nFPR: %s\\nTPR: %s\\nF-measure: %s\\nPrecision: %s\\nRecall: %s\"\n",
    "      % (accuracy, falsePositiveRate, truePositiveRate, fMeasure, precision, recall))"
   ]
  },
  {
   "cell_type": "code",
   "execution_count": 51,
   "metadata": {},
   "outputs": [
    {
     "name": "stdout",
     "output_type": "stream",
     "text": [
      "True positive rate by label:\n",
      "label 0: 0.7638475697048197\n",
      "label 1: 0.17281043715671768\n",
      "label 2: 0.0007741965527879808\n",
      "label 3: 0.2874392068836513\n",
      "label 4: 2.2639544492364815e-05\n",
      "label 5: 0.5552275579935847\n",
      "label 6: 0.010199350950394067\n",
      "label 7: 0.7796397716754089\n",
      "label 8: 0.0\n",
      "label 9: 0.0980559027685434\n",
      "label 10: 0.0\n",
      "label 11: 0.005614072608672405\n",
      "label 12: 0.0\n",
      "label 13: 0.09498221448573374\n",
      "label 14: 0.8827797934691599\n",
      "label 15: 0.0\n",
      "label 16: 0.0\n",
      "label 17: 0.0\n",
      "label 18: 0.0\n",
      "label 19: 0.32325141776937616\n"
     ]
    }
   ],
   "source": [
    "print(\"True positive rate by label:\")\n",
    "for i, rate in enumerate(trainingSummary.truePositiveRateByLabel):\n",
    "    print(\"label %d: %s\" % (i, rate))"
   ]
  },
  {
   "cell_type": "code",
   "execution_count": 52,
   "metadata": {},
   "outputs": [
    {
     "name": "stdout",
     "output_type": "stream",
     "text": [
      "F-measure by label:\n",
      "label 0: 0.5000691758611057\n",
      "label 1: 0.22164837908899954\n",
      "label 2: 0.0015386751197390036\n",
      "label 3: 0.28369926935876194\n",
      "label 4: 4.527396407510951e-05\n",
      "label 5: 0.32790643403297326\n",
      "label 6: 0.019841985641617665\n",
      "label 7: 0.5533481608212147\n",
      "label 8: 0.0\n",
      "label 9: 0.1399294090857338\n",
      "label 10: 0.0\n",
      "label 11: 0.010781947938594239\n",
      "label 12: 0.0\n",
      "label 13: 0.11944986436967592\n",
      "label 14: 0.6925013683634373\n",
      "label 15: 0.0\n",
      "label 16: 0.0\n",
      "label 17: 0.0\n",
      "label 18: 0.0\n",
      "label 19: 0.42326732673267325\n"
     ]
    }
   ],
   "source": [
    "print(\"F-measure by label:\")\n",
    "for i, f in enumerate(trainingSummary.fMeasureByLabel()):\n",
    "    print(\"label %d: %s\" % (i, f))"
   ]
  },
  {
   "cell_type": "code",
   "execution_count": 53,
   "metadata": {},
   "outputs": [],
   "source": [
    "lrModel2 = lr.fit(adj_train)"
   ]
  },
  {
   "cell_type": "code",
   "execution_count": 54,
   "metadata": {},
   "outputs": [],
   "source": [
    "trainingSummary2 = lrModel2.summary"
   ]
  },
  {
   "cell_type": "code",
   "execution_count": 55,
   "metadata": {},
   "outputs": [
    {
     "name": "stdout",
     "output_type": "stream",
     "text": [
      "Accuracy: 0.2721542115841403\n",
      "FPR: 0.03834224234066022\n",
      "TPR: 0.2721542115841403\n",
      "F-measure: 0.25482274832463336\n",
      "Precision: 0.2737076565856912\n",
      "Recall: 0.2721542115841403\n"
     ]
    }
   ],
   "source": [
    "accuracy2 = trainingSummary2.accuracy\n",
    "falsePositiveRate2 = trainingSummary2.weightedFalsePositiveRate\n",
    "truePositiveRate2 = trainingSummary2.weightedTruePositiveRate\n",
    "fMeasure2 = trainingSummary2.weightedFMeasure()\n",
    "precision2 = trainingSummary2.weightedPrecision\n",
    "recall2 = trainingSummary2.weightedRecall\n",
    "print(\"Accuracy: %s\\nFPR: %s\\nTPR: %s\\nF-measure: %s\\nPrecision: %s\\nRecall: %s\"\n",
    "      % (accuracy2, falsePositiveRate2, truePositiveRate2, fMeasure2, precision2, recall2))"
   ]
  },
  {
   "cell_type": "code",
   "execution_count": 56,
   "metadata": {},
   "outputs": [
    {
     "name": "stdout",
     "output_type": "stream",
     "text": [
      "True positive rate by label:\n",
      "label 0: 0.23214285714285715\n",
      "label 1: 0.046242774566473986\n",
      "label 2: 0.10727969348659004\n",
      "label 3: 0.16353383458646617\n",
      "label 4: 0.19434628975265017\n",
      "label 5: 0.49480968858131485\n",
      "label 6: 0.08620689655172414\n",
      "label 7: 0.49217391304347824\n",
      "label 8: 0.23201438848920863\n",
      "label 9: 0.40619621342512907\n",
      "label 10: 0.05410122164048865\n",
      "label 11: 0.29528985507246375\n",
      "label 12: 0.011131725417439703\n",
      "label 13: 0.22522522522522523\n",
      "label 14: 0.647787610619469\n",
      "label 15: 0.12701252236135957\n",
      "label 16: 0.32007575757575757\n",
      "label 17: 0.4785992217898833\n",
      "label 18: 0.08761904761904762\n",
      "label 19: 0.722753346080306\n"
     ]
    }
   ],
   "source": [
    "print(\"True positive rate by label:\")\n",
    "for i, rate in enumerate(trainingSummary2.truePositiveRateByLabel):\n",
    "    print(\"label %d: %s\" % (i, rate))"
   ]
  },
  {
   "cell_type": "code",
   "execution_count": 57,
   "metadata": {},
   "outputs": [
    {
     "name": "stdout",
     "output_type": "stream",
     "text": [
      "F-measure by label:\n",
      "label 0: 0.16956521739130434\n",
      "label 1: 0.06876790830945559\n",
      "label 2: 0.1122244488977956\n",
      "label 3: 0.18974918211559436\n",
      "label 4: 0.18363939899833057\n",
      "label 5: 0.2921348314606741\n",
      "label 6: 0.1272264631043257\n",
      "label 7: 0.4380804953560371\n",
      "label 8: 0.17211474316210806\n",
      "label 9: 0.38405207485760784\n",
      "label 10: 0.08458390177353341\n",
      "label 11: 0.2895204262877442\n",
      "label 12: 0.02123893805309734\n",
      "label 13: 0.24509803921568626\n",
      "label 14: 0.7031700288184438\n",
      "label 15: 0.16118047673098754\n",
      "label 16: 0.22295514511873352\n",
      "label 17: 0.45054945054945056\n",
      "label 18: 0.11601513240857501\n",
      "label 19: 0.6461538461538462\n"
     ]
    }
   ],
   "source": [
    "print(\"F-measure by label:\")\n",
    "for i, f in enumerate(trainingSummary2.fMeasureByLabel()):\n",
    "    print(\"label %d: %s\" % (i, f))"
   ]
  },
  {
   "cell_type": "code",
   "execution_count": 58,
   "metadata": {},
   "outputs": [],
   "source": [
    "## Cross-validation model\n",
    "\n",
    "# set up parameter grid\n",
    "paramGrid = ParamGridBuilder() \\\n",
    "    .addGrid(lr.regParam, [0.1, 0.01]) \\\n",
    "    .build()\n",
    "    \n",
    "# wrap into CrossValidator\n",
    "crossval = CrossValidator(estimator=lr,\n",
    "                          estimatorParamMaps=paramGrid,\n",
    "                          evaluator=MulticlassClassificationEvaluator(labelCol=\"mcd_2_R_index\", predictionCol=\"prediction\", metricName=\"accuracy\"),\n",
    "                          numFolds=2)\n",
    "\n",
    "# Run cross-validation, and choose the best set of parameters.\n",
    "cvModel = crossval.fit(adj_train)"
   ]
  },
  {
   "cell_type": "code",
   "execution_count": 59,
   "metadata": {},
   "outputs": [],
   "source": [
    "# cvSummary2 = cvModel.summary"
   ]
  },
  {
   "cell_type": "code",
   "execution_count": 60,
   "metadata": {},
   "outputs": [],
   "source": [
    "# print(\"True positive rate by label:\")\n",
    "# for i, rate in enumerate(cvSummary2.truePositiveRateByLabel):\n",
    "#     print(\"label %d: %s\" % (i, rate))"
   ]
  },
  {
   "cell_type": "markdown",
   "metadata": {},
   "source": [
    "### Model Evaluation"
   ]
  },
  {
   "cell_type": "code",
   "execution_count": 61,
   "metadata": {},
   "outputs": [],
   "source": [
    "evaluator = MulticlassClassificationEvaluator(labelCol=\"mcd_2_R_index\", predictionCol=\"prediction\", metricName=\"accuracy\")\n",
    "evaluator2 = MulticlassClassificationEvaluator(labelCol=\"mcd_2_R_index\", predictionCol=\"prediction\", metricName=\"f1\")\n",
    "evaluator3 = MulticlassClassificationEvaluator(labelCol=\"mcd_2_R_index\", predictionCol=\"prediction\", metricName=\"weightedRecall\")\n",
    "# evaluator4 = MulticlassClassificationEvaluator(labelCol=\"mcd_2_R_index\", predictionCol=\"prediction\", metricName=\"weightedFMeasure\")\n",
    "# evaluator4 = MulticlassClassificationEvaluator(labelCol=\"mcd_2_R_index\", predictionCol=\"prediction\", metricLabel = 14.0, metricName=\"recallByLabel\")"
   ]
  },
  {
   "cell_type": "code",
   "execution_count": 62,
   "metadata": {},
   "outputs": [],
   "source": [
    "model_1_preds = lrModel.transform(test_data)"
   ]
  },
  {
   "cell_type": "code",
   "execution_count": 63,
   "metadata": {},
   "outputs": [
    {
     "name": "stdout",
     "output_type": "stream",
     "text": [
      "Accuracy: 0.3368531534291703\n",
      "F-measure: 0.24923548670131376\n",
      "Recall: 0.3368531534291704\n"
     ]
    }
   ],
   "source": [
    "accuracy1 = evaluator.evaluate(model_1_preds)\n",
    "f1_score1 = evaluator2.evaluate(model_1_preds)\n",
    "recall1 = evaluator3.evaluate(model_1_preds)\n",
    "print(\"Accuracy: %s\\nF-measure: %s\\nRecall: %s\" % (accuracy1, f1_score1, recall1))"
   ]
  },
  {
   "cell_type": "code",
   "execution_count": 64,
   "metadata": {},
   "outputs": [],
   "source": [
    "model_2_preds = lrModel2.transform(test_data)"
   ]
  },
  {
   "cell_type": "code",
   "execution_count": 65,
   "metadata": {},
   "outputs": [
    {
     "name": "stdout",
     "output_type": "stream",
     "text": [
      "Accuracy: 0.18518945449361002\n",
      "F-measure: 0.19854521598260602\n",
      "Recall: 0.18518945449361005\n"
     ]
    }
   ],
   "source": [
    "accuracy2 = evaluator.evaluate(model_2_preds)\n",
    "f1_score2 = evaluator2.evaluate(model_2_preds)\n",
    "recall2 = evaluator3.evaluate(model_2_preds)\n",
    "print(\"Accuracy: %s\\nF-measure: %s\\nRecall: %s\" % (accuracy2, f1_score2, recall2))"
   ]
  },
  {
   "cell_type": "code",
   "execution_count": 66,
   "metadata": {},
   "outputs": [],
   "source": [
    "model_3_preds = cvModel.transform(test_data)"
   ]
  },
  {
   "cell_type": "code",
   "execution_count": 67,
   "metadata": {},
   "outputs": [
    {
     "name": "stdout",
     "output_type": "stream",
     "text": [
      "Accuracy: 0.1761497556551203\n",
      "F-measure: 0.16818300839115424\n",
      "Recall: 0.1761497556551203\n"
     ]
    }
   ],
   "source": [
    "accuracy3 = evaluator.evaluate(model_3_preds)\n",
    "f1_score3 = evaluator2.evaluate(model_3_preds)\n",
    "recall3 = evaluator3.evaluate(model_3_preds)\n",
    "print(\"Accuracy: %s\\nF-measure: %s\\nRecall: %s\" % (accuracy3, f1_score3, recall3))"
   ]
  },
  {
   "cell_type": "code",
   "execution_count": 68,
   "metadata": {},
   "outputs": [
    {
     "name": "stdout",
     "output_type": "stream",
     "text": [
      "+----------+------+\n",
      "|prediction| count|\n",
      "+----------+------+\n",
      "|       0.0|188093|\n",
      "|       5.0| 51693|\n",
      "|       1.0| 30613|\n",
      "|       3.0| 27493|\n",
      "|       7.0| 23724|\n",
      "|       9.0|  3799|\n",
      "|      13.0|  1971|\n",
      "|      14.0|  1341|\n",
      "|       6.0|   377|\n",
      "|       2.0|   287|\n",
      "|      11.0|   200|\n",
      "|      19.0|    65|\n",
      "|       4.0|     1|\n",
      "+----------+------+\n",
      "\n"
     ]
    }
   ],
   "source": [
    "model_1_preds.groupby(\"prediction\").count().orderBy('count', ascending=False).show()"
   ]
  },
  {
   "cell_type": "code",
   "execution_count": 69,
   "metadata": {},
   "outputs": [
    {
     "name": "stdout",
     "output_type": "stream",
     "text": [
      "+----------+-----+\n",
      "|prediction|count|\n",
      "+----------+-----+\n",
      "|       5.0|48260|\n",
      "|       8.0|43199|\n",
      "|       0.0|39945|\n",
      "|      16.0|28840|\n",
      "|       4.0|26441|\n",
      "|       2.0|23037|\n",
      "|       9.0|14790|\n",
      "|       3.0|14718|\n",
      "|       7.0|14577|\n",
      "|      11.0|13752|\n",
      "|      13.0|12279|\n",
      "|       1.0| 9042|\n",
      "|      18.0| 8853|\n",
      "|      15.0| 7813|\n",
      "|      19.0| 6169|\n",
      "|       6.0| 6050|\n",
      "|      10.0| 5353|\n",
      "|      17.0| 4550|\n",
      "|      12.0| 1026|\n",
      "|      14.0|  963|\n",
      "+----------+-----+\n",
      "\n"
     ]
    }
   ],
   "source": [
    "model_2_preds.groupby(\"prediction\").count().orderBy('count', ascending=False).show()"
   ]
  },
  {
   "cell_type": "code",
   "execution_count": 70,
   "metadata": {},
   "outputs": [
    {
     "name": "stdout",
     "output_type": "stream",
     "text": [
      "+----------+-----+\n",
      "|prediction|count|\n",
      "+----------+-----+\n",
      "|       8.0|63480|\n",
      "|       5.0|53990|\n",
      "|       4.0|39189|\n",
      "|       0.0|32285|\n",
      "|       7.0|19173|\n",
      "|      15.0|18854|\n",
      "|       9.0|16478|\n",
      "|       6.0|15637|\n",
      "|      11.0|13730|\n",
      "|       3.0|10899|\n",
      "|       2.0|10128|\n",
      "|      16.0| 8626|\n",
      "|      13.0| 8297|\n",
      "|      10.0| 7340|\n",
      "|      17.0| 4983|\n",
      "|      18.0| 4631|\n",
      "|      14.0|  866|\n",
      "|      12.0|  616|\n",
      "|      19.0|  298|\n",
      "|       1.0|  157|\n",
      "+----------+-----+\n",
      "\n"
     ]
    }
   ],
   "source": [
    "model_3_preds.groupby(\"prediction\").count().orderBy('count', ascending=False).show()"
   ]
  },
  {
   "cell_type": "markdown",
   "metadata": {},
   "source": [
    "### Top 5 predicted secondary causes of death\n",
    "\n",
    "- 0.0 -> I -> circulatory system disease\n",
    "- 5.0 -> C -> neoplasm (cancer)\n",
    "- 1.0 -> F -> mental/behavioral disorder\n",
    "- 3.0 -> A -> infectious/parasitic diseases\n",
    "- 7.0 -> T -> injury/poisoning/external causes\n",
    "\n",
    "### Top 5 predicted secondary causes of death after downsampling\n",
    "\n",
    "- 5.0 -> C -> neoplasm (cancer)\n",
    "- 8.0 -> G -> Nervous System\n",
    "- 0.0 -> I -> circulatory system disease\n",
    "- 16.0 -> L -> skin/subcutaneous disease\n",
    "- 4.0 -> J -> repiratory\n",
    "\n",
    "### Top 5 predicted secondary causes of death after downsampling and cross-validation (k=2)\n",
    "\n",
    "- 8.0 -> G -> Nervous System\n",
    "- 5.0 -> C -> neoplasm (cancer)\n",
    "- 4.0 -> J -> repiratory\n",
    "- 0.0 -> I -> circulatory system disease\n",
    "- 7.0 -> T -> injury/poisoning/external causes"
   ]
  },
  {
   "cell_type": "code",
   "execution_count": 71,
   "metadata": {},
   "outputs": [
    {
     "name": "stdout",
     "output_type": "stream",
     "text": [
      "+-------+-------------+\n",
      "|mcd_2_R|mcd_2_R_index|\n",
      "+-------+-------------+\n",
      "|      W|         21.0|\n",
      "|      X|         22.0|\n",
      "|      N|         12.0|\n",
      "|      C|          5.0|\n",
      "|      A|          3.0|\n",
      "|      B|         13.0|\n",
      "|      O|         19.0|\n",
      "|      T|          7.0|\n",
      "|      F|          1.0|\n",
      "|      D|         10.0|\n",
      "|      E|          2.0|\n",
      "|      Y|         20.0|\n",
      "|      V|         23.0|\n",
      "|      R|          6.0|\n",
      "|      K|         11.0|\n",
      "|      Q|         17.0|\n",
      "|      P|         14.0|\n",
      "|      J|          4.0|\n",
      "|      I|          0.0|\n",
      "|      S|          9.0|\n",
      "|      H|         18.0|\n",
      "|      L|         16.0|\n",
      "|      M|         15.0|\n",
      "|      G|          8.0|\n",
      "+-------+-------------+\n",
      "\n"
     ]
    }
   ],
   "source": [
    "codemap.show(25)"
   ]
  },
  {
   "cell_type": "markdown",
   "metadata": {},
   "source": [
    "### Testing Holdout Data"
   ]
  },
  {
   "cell_type": "code",
   "execution_count": 72,
   "metadata": {},
   "outputs": [],
   "source": [
    "test_pred = cvModel.transform(cleanup_test)"
   ]
  },
  {
   "cell_type": "code",
   "execution_count": 76,
   "metadata": {},
   "outputs": [
    {
     "name": "stdout",
     "output_type": "stream",
     "text": [
      "Accuracy: 0.17812172850994534\n",
      "F-measure: 0.17032141701280623\n",
      "Recall: 0.17812172850994534\n"
     ]
    }
   ],
   "source": [
    "accuracy4 = evaluator.evaluate(test_pred)\n",
    "f1_score4 = evaluator2.evaluate(test_pred)\n",
    "recall4 = evaluator3.evaluate(test_pred)\n",
    "print(\"Accuracy: %s\\nF-measure: %s\\nRecall: %s\" % (accuracy4, f1_score4, recall4))"
   ]
  },
  {
   "cell_type": "code",
   "execution_count": 74,
   "metadata": {},
   "outputs": [],
   "source": [
    "# test_pred.show()"
   ]
  }
 ],
 "metadata": {
  "kernelspec": {
   "display_name": "Python 3",
   "language": "python",
   "name": "python3"
  },
  "language_info": {
   "codemirror_mode": {
    "name": "ipython",
    "version": 3
   },
   "file_extension": ".py",
   "mimetype": "text/x-python",
   "name": "python",
   "nbconvert_exporter": "python",
   "pygments_lexer": "ipython3",
   "version": "3.7.4"
  }
 },
 "nbformat": 4,
 "nbformat_minor": 4
}
