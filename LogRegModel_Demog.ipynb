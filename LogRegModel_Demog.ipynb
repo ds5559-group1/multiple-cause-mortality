{
 "cells": [
  {
   "cell_type": "markdown",
   "metadata": {},
   "source": [
    "# Multinomial Logistic Regression Model\n",
    "\n",
    "Attempting to predict underlying cause of death from demographic features."
   ]
  },
  {
   "cell_type": "markdown",
   "metadata": {},
   "source": [
    "## Setup"
   ]
  },
  {
   "cell_type": "code",
   "execution_count": 1,
   "metadata": {},
   "outputs": [],
   "source": [
    "from pyspark.sql import SparkSession\n",
    "\n",
    "spark = SparkSession.builder \\\n",
    ".master(\"local[*]\") \\\n",
    ".appName(\"spark_setup\") \\\n",
    ".getOrCreate()"
   ]
  },
  {
   "cell_type": "code",
   "execution_count": 2,
   "metadata": {},
   "outputs": [],
   "source": [
    "# Read in train data\n",
    "train_data = spark.read.option(\"header\",True).option(\"inferSchema\",True).csv(\"train_data\")"
   ]
  },
  {
   "cell_type": "code",
   "execution_count": 3,
   "metadata": {},
   "outputs": [],
   "source": [
    "# Subset with potential features\n",
    "training = train_data.select(\"ucd\", \"education\", \"sex\", \"age\", \"marital_status\", \"hispanic_race_recode\")"
   ]
  },
  {
   "cell_type": "code",
   "execution_count": 4,
   "metadata": {},
   "outputs": [
    {
     "name": "stdout",
     "output_type": "stream",
     "text": [
      "root\n",
      " |-- ucd: string (nullable = true)\n",
      " |-- education: integer (nullable = true)\n",
      " |-- sex: string (nullable = true)\n",
      " |-- age: integer (nullable = true)\n",
      " |-- marital_status: string (nullable = true)\n",
      " |-- hispanic_race_recode: integer (nullable = true)\n",
      "\n"
     ]
    }
   ],
   "source": [
    "training.printSchema()"
   ]
  },
  {
   "cell_type": "code",
   "execution_count": 5,
   "metadata": {},
   "outputs": [],
   "source": [
    "# strip UCD codes to include first letter only, for response level reduction\n",
    "from pyspark.sql.functions import *\n",
    "\n",
    "training = training.withColumn(\"ucd_short\", regexp_replace('ucd', '\\\\d+', ''))"
   ]
  },
  {
   "cell_type": "code",
   "execution_count": 6,
   "metadata": {},
   "outputs": [
    {
     "name": "stdout",
     "output_type": "stream",
     "text": [
      "+----+---------+---+---+--------------+--------------------+---------+\n",
      "| ucd|education|sex|age|marital_status|hispanic_race_recode|ucd_short|\n",
      "+----+---------+---+---+--------------+--------------------+---------+\n",
      "| F03|       14|  F| 94|             W|                   6|        F|\n",
      "|J449|       12|  F| 70|             M|                   6|        J|\n",
      "|I219|       16|  M| 88|             M|                   6|        I|\n",
      "|C259|       12|  M| 77|             M|                   6|        C|\n",
      "|F102|       12|  F| 46|             D|                   1|        F|\n",
      "+----+---------+---+---+--------------+--------------------+---------+\n",
      "only showing top 5 rows\n",
      "\n"
     ]
    }
   ],
   "source": [
    "training.show(5)"
   ]
  },
  {
   "cell_type": "code",
   "execution_count": 7,
   "metadata": {},
   "outputs": [],
   "source": [
    "# replace age coding values\n",
    "\n",
    "def replace(column, value):\n",
    "    return when(column != value, column)\n",
    "\n",
    "training = training.withColumn(\"age\", replace(col(\"age\"), 999)) # change age value coded as unknown (999) to null"
   ]
  },
  {
   "cell_type": "code",
   "execution_count": 8,
   "metadata": {},
   "outputs": [
    {
     "data": {
      "text/plain": [
       "0"
      ]
     },
     "execution_count": 8,
     "metadata": {},
     "output_type": "execute_result"
    }
   ],
   "source": [
    "training.filter(training.age == 999).count() # yes - 999 codes have been replaced "
   ]
  },
  {
   "cell_type": "code",
   "execution_count": 9,
   "metadata": {},
   "outputs": [
    {
     "name": "stdout",
     "output_type": "stream",
     "text": [
      "+---------+------+\n",
      "|ucd_short| count|\n",
      "+---------+------+\n",
      "|        I|674836|\n",
      "|        C|477413|\n",
      "|        J|216611|\n",
      "|        G|159912|\n",
      "|        F|111510|\n",
      "+---------+------+\n",
      "only showing top 5 rows\n",
      "\n"
     ]
    }
   ],
   "source": [
    "training.groupby(\"ucd_short\").count().orderBy('count', ascending=False).show(5) # top 5 causes of death with counts"
   ]
  },
  {
   "cell_type": "markdown",
   "metadata": {},
   "source": [
    "I: Diseases of the circulatory system  \n",
    "C: Neoplasms  \n",
    "J: Diseases of the respiratory system  \n",
    "G: Diseases of the nervous system  \n",
    "F: Mental, Behavioral and Neurodevelopmental disorders  "
   ]
  },
  {
   "cell_type": "code",
   "execution_count": 10,
   "metadata": {},
   "outputs": [
    {
     "name": "stdout",
     "output_type": "stream",
     "text": [
      "+---+---------+---+---+--------------+--------------------+---------+\n",
      "|ucd|education|sex|age|marital_status|hispanic_race_recode|ucd_short|\n",
      "+---+---------+---+---+--------------+--------------------+---------+\n",
      "|  0|    54142|  0|382|         16592|                7871|        0|\n",
      "+---+---------+---+---+--------------+--------------------+---------+\n",
      "\n"
     ]
    }
   ],
   "source": [
    "training.select([count(when(col(c).isNull(), c)).alias(c) for c in training.columns]).show() # rows with null values in each column"
   ]
  },
  {
   "cell_type": "code",
   "execution_count": 11,
   "metadata": {},
   "outputs": [
    {
     "data": {
      "text/plain": [
       "2200579"
      ]
     },
     "execution_count": 11,
     "metadata": {},
     "output_type": "execute_result"
    }
   ],
   "source": [
    "training.count() # rows in training set"
   ]
  },
  {
   "cell_type": "code",
   "execution_count": 12,
   "metadata": {},
   "outputs": [
    {
     "data": {
      "text/plain": [
       "0.30666292825660885"
      ]
     },
     "execution_count": 12,
     "metadata": {},
     "output_type": "execute_result"
    }
   ],
   "source": [
    "674836/2200579"
   ]
  },
  {
   "cell_type": "markdown",
   "metadata": {},
   "source": [
    "30.7% of deaths in the training set are due to circulatory disease."
   ]
  },
  {
   "cell_type": "code",
   "execution_count": 13,
   "metadata": {},
   "outputs": [],
   "source": [
    "# drop rows with null or nans\n",
    "training = training.na.drop()"
   ]
  },
  {
   "cell_type": "code",
   "execution_count": 14,
   "metadata": {},
   "outputs": [
    {
     "data": {
      "text/plain": [
       "2136639"
      ]
     },
     "execution_count": 14,
     "metadata": {},
     "output_type": "execute_result"
    }
   ],
   "source": [
    "training.count()"
   ]
  },
  {
   "cell_type": "code",
   "execution_count": 15,
   "metadata": {},
   "outputs": [
    {
     "data": {
      "text/plain": [
       "2.9055989355528666"
      ]
     },
     "execution_count": 15,
     "metadata": {},
     "output_type": "execute_result"
    }
   ],
   "source": [
    "(1 - (2136639/2200579))*100 # dropped 2.9% of dataset because of null values"
   ]
  },
  {
   "cell_type": "markdown",
   "metadata": {},
   "source": [
    "## Prep and parse the data"
   ]
  },
  {
   "cell_type": "code",
   "execution_count": 16,
   "metadata": {},
   "outputs": [],
   "source": [
    "from pyspark.ml.linalg import Vectors\n",
    "from pyspark.ml.feature import VectorAssembler\n",
    "from pyspark.ml.feature import OneHotEncoder, StringIndexer\n",
    "from pyspark.ml.feature import OneHotEncoderEstimator\n",
    "from pyspark.ml import Pipeline"
   ]
  },
  {
   "cell_type": "code",
   "execution_count": 17,
   "metadata": {},
   "outputs": [],
   "source": [
    "train_set, val_set = training.randomSplit(weights=[0.8, 0.2], seed=212) ## split into train set and validation set"
   ]
  },
  {
   "cell_type": "code",
   "execution_count": 18,
   "metadata": {},
   "outputs": [
    {
     "name": "stdout",
     "output_type": "stream",
     "text": [
      "+----+---------+---+---+--------------+--------------------+---------+\n",
      "| ucd|education|sex|age|marital_status|hispanic_race_recode|ucd_short|\n",
      "+----+---------+---+---+--------------+--------------------+---------+\n",
      "|A020|        7|  M| 70|             M|                   6|        A|\n",
      "|A021|        4|  M| 19|             S|                   7|        A|\n",
      "|A021|        5|  M| 30|             S|                   6|        A|\n",
      "|A021|        7|  M| 85|             W|                   6|        A|\n",
      "|A021|       12|  F| 58|             M|                   6|        A|\n",
      "|A047|        1|  F| 61|             S|                   7|        A|\n",
      "|A047|        1|  F| 69|             W|                   6|        A|\n",
      "|A047|        1|  F| 70|             D|                   1|        A|\n",
      "|A047|        1|  F| 70|             S|                   6|        A|\n",
      "|A047|        1|  F| 71|             S|                   4|        A|\n",
      "|A047|        1|  F| 71|             W|                   6|        A|\n",
      "|A047|        1|  F| 73|             M|                   1|        A|\n",
      "|A047|        1|  F| 73|             M|                   6|        A|\n",
      "|A047|        1|  F| 73|             W|                   1|        A|\n",
      "|A047|        1|  F| 75|             W|                   1|        A|\n",
      "|A047|        1|  F| 78|             M|                   1|        A|\n",
      "|A047|        1|  F| 80|             S|                   1|        A|\n",
      "|A047|        1|  F| 81|             S|                   6|        A|\n",
      "|A047|        1|  F| 81|             W|                   8|        A|\n",
      "|A047|        1|  F| 82|             W|                   6|        A|\n",
      "+----+---------+---+---+--------------+--------------------+---------+\n",
      "only showing top 20 rows\n",
      "\n"
     ]
    }
   ],
   "source": [
    "train_set.show()"
   ]
  },
  {
   "cell_type": "code",
   "execution_count": 19,
   "metadata": {},
   "outputs": [
    {
     "name": "stdout",
     "output_type": "stream",
     "text": [
      "+---------+------+\n",
      "|ucd_short| count|\n",
      "+---------+------+\n",
      "|        U|     2|\n",
      "|        H|    90|\n",
      "|        O|   721|\n",
      "|        L|  3015|\n",
      "|        Q|  5905|\n",
      "|        P|  6371|\n",
      "|        Y|  8497|\n",
      "|        M|  8533|\n",
      "|        B| 10081|\n",
      "|        D| 16769|\n",
      "|        R| 19986|\n",
      "|        V| 25491|\n",
      "|        W| 29747|\n",
      "|        A| 33134|\n",
      "|        N| 43401|\n",
      "|        K| 65293|\n",
      "|        E| 76540|\n",
      "|        X| 78864|\n",
      "|        F| 86364|\n",
      "|        G|125106|\n",
      "+---------+------+\n",
      "only showing top 20 rows\n",
      "\n"
     ]
    }
   ],
   "source": [
    "train_set.groupby(\"ucd_short\").count().sort('count').show()"
   ]
  },
  {
   "cell_type": "code",
   "execution_count": 20,
   "metadata": {},
   "outputs": [],
   "source": [
    "# there are only 2 observations for group 'U' and 90 for group 'H' - filter out for now \n",
    "\n",
    "train_set = train_set.filter(train_set.ucd_short != \"U\")\n",
    "train_set = train_set.filter(train_set.ucd_short != \"H\")"
   ]
  },
  {
   "cell_type": "code",
   "execution_count": 21,
   "metadata": {},
   "outputs": [
    {
     "name": "stdout",
     "output_type": "stream",
     "text": [
      "+---------+------+\n",
      "|ucd_short| count|\n",
      "+---------+------+\n",
      "|        O|   721|\n",
      "|        L|  3015|\n",
      "|        Q|  5905|\n",
      "|        P|  6371|\n",
      "|        Y|  8497|\n",
      "|        M|  8533|\n",
      "|        B| 10081|\n",
      "|        D| 16769|\n",
      "|        R| 19986|\n",
      "|        V| 25491|\n",
      "|        W| 29747|\n",
      "|        A| 33134|\n",
      "|        N| 43401|\n",
      "|        K| 65293|\n",
      "|        E| 76540|\n",
      "|        X| 78864|\n",
      "|        F| 86364|\n",
      "|        G|125106|\n",
      "|        J|168089|\n",
      "|        C|372398|\n",
      "+---------+------+\n",
      "only showing top 20 rows\n",
      "\n"
     ]
    }
   ],
   "source": [
    "train_set.groupby(\"ucd_short\").count().sort('count').show()"
   ]
  },
  {
   "cell_type": "code",
   "execution_count": 22,
   "metadata": {},
   "outputs": [
    {
     "data": {
      "text/plain": [
       "3465"
      ]
     },
     "execution_count": 22,
     "metadata": {},
     "output_type": "execute_result"
    }
   ],
   "source": [
    "train_set.select('ucd').distinct().count()"
   ]
  },
  {
   "cell_type": "code",
   "execution_count": 23,
   "metadata": {},
   "outputs": [
    {
     "data": {
      "text/plain": [
       "21"
      ]
     },
     "execution_count": 23,
     "metadata": {},
     "output_type": "execute_result"
    }
   ],
   "source": [
    "train_set.select('ucd_short').distinct().count()"
   ]
  },
  {
   "cell_type": "markdown",
   "metadata": {},
   "source": [
    "There are now 21 different outcomes for UCD."
   ]
  },
  {
   "cell_type": "markdown",
   "metadata": {},
   "source": [
    "## Modeling"
   ]
  },
  {
   "cell_type": "markdown",
   "metadata": {},
   "source": [
    "### Full Training Set"
   ]
  },
  {
   "cell_type": "code",
   "execution_count": 24,
   "metadata": {},
   "outputs": [],
   "source": [
    "from pyspark.ml.linalg import Vectors\n",
    "from pyspark.ml.feature import VectorAssembler\n",
    "from pyspark.ml.feature import OneHotEncoder, StringIndexer\n",
    "from pyspark.ml.feature import OneHotEncoderEstimator\n",
    "from pyspark.ml.classification import LogisticRegression\n",
    "from pyspark.ml.evaluation import MulticlassClassificationEvaluator"
   ]
  },
  {
   "cell_type": "code",
   "execution_count": 25,
   "metadata": {},
   "outputs": [
    {
     "name": "stdout",
     "output_type": "stream",
     "text": [
      "root\n",
      " |-- ucd_short_index: double (nullable = false)\n",
      " |-- features: vector (nullable = true)\n",
      "\n"
     ]
    }
   ],
   "source": [
    "# StringIndexer transformers to encode categorical features as numerical for vector assembly\n",
    "indexer1 = StringIndexer(inputCol=\"marital_status\", outputCol=\"marital_status_index\")\n",
    "indexer2 = StringIndexer(inputCol=\"sex\", outputCol=\"sex_index\")\n",
    "indexer3 = StringIndexer(inputCol=\"ucd_short\", outputCol=\"ucd_short_index\")\n",
    "\n",
    "indexed1_full = indexer1.fit(train_set).transform(train_set)\n",
    "indexed2_full = indexer2.fit(indexed1_full).transform(indexed1_full)\n",
    "indexed_full = indexer3.fit(indexed2_full).transform(indexed2_full)\n",
    "\n",
    "# OneHotEncoder transformer to prepare categorical features for model\n",
    "encoder = OneHotEncoderEstimator(inputCols =[\"hispanic_race_recode\", \"education\", \"marital_status_index\"],\n",
    "                                 outputCols = [\"cat_hispanic_race_recode\", \"cat_education\", \"cat_marital_status\"])\n",
    "\n",
    "model_full = encoder.fit(indexed_full)\n",
    "encoded_full = model_full.transform(indexed_full)\n",
    "\n",
    "# VectorAssembler to package the features for model\n",
    "assembler_full = VectorAssembler(inputCols=[\"cat_hispanic_race_recode\", \"cat_education\", \"cat_marital_status\", \"sex_index\", \"age\"],\n",
    "                            outputCol=\"features\")\n",
    "output_full = assembler_full.transform(encoded_full)\n",
    "\n",
    "cleanup_full = output_full.select(\"ucd_short_index\", \"features\")\n",
    "cleanup_full.printSchema()\n",
    "\n",
    "mlr_full = LogisticRegression(featuresCol = \"features\", labelCol = \"ucd_short_index\", family = \"multinomial\")\n",
    "\n",
    "mlrModel_full = mlr_full.fit(cleanup_full)\n",
    "\n",
    "prediction_full = mlrModel_full.transform(cleanup_full)"
   ]
  },
  {
   "cell_type": "code",
   "execution_count": 26,
   "metadata": {},
   "outputs": [
    {
     "name": "stdout",
     "output_type": "stream",
     "text": [
      "+---------------+--------------------+--------------------+--------------------+----------+\n",
      "|ucd_short_index|            features|       rawPrediction|         probability|prediction|\n",
      "+---------------+--------------------+--------------------+--------------------+----------+\n",
      "|            9.0|(30,[6,15,25,29],...|[3.43064048346362...|[0.26935644028785...|       1.0|\n",
      "|            9.0|(30,[7,12,29],[1....|[1.54206074263952...|[0.04498454519431...|       5.0|\n",
      "|            9.0|(30,[6,13,29],[1....|[1.86970683294612...|[0.07370801633457...|       5.0|\n",
      "|            9.0|(30,[6,15,26,29],...|[4.04046433139016...|[0.37211904570899...|       0.0|\n",
      "|            9.0|(30,[6,20,25,28,2...|[2.83668530956359...|[0.21191693039509...|       1.0|\n",
      "|            9.0|(30,[7,9,28,29],[...|[2.74034622258615...|[0.31689565656866...|       0.0|\n",
      "|            9.0|(30,[6,9,26,28,29...|[3.08447452699901...|[0.29857295948084...|       0.0|\n",
      "|            9.0|(30,[1,9,27,28,29...|[3.03111893643889...|[0.29885561696088...|       0.0|\n",
      "|            9.0|(30,[6,9,28,29],[...|[2.97223453924086...|[0.30718909223527...|       0.0|\n",
      "|            9.0|(30,[4,9,28,29],[...|[2.92230621064141...|[0.31518585202261...|       0.0|\n",
      "|            9.0|(30,[6,9,26,28,29...|[3.16089373721673...|[0.30540414521719...|       0.0|\n",
      "|            9.0|(30,[1,9,25,28,29...|[3.10582638606449...|[0.28296402295751...|       0.0|\n",
      "|            9.0|(30,[6,9,25,28,29...|[3.20063317614085...|[0.27786709329445...|       0.0|\n",
      "|            9.0|(30,[1,9,26,28,29...|[3.14250615735810...|[0.31965399291014...|       0.0|\n",
      "|            9.0|(30,[1,9,26,28,29...|[3.21892536757582...|[0.32666530771924...|       0.0|\n",
      "|            9.0|(30,[1,9,25,28,29...|[3.29687441160880...|[0.30011308792735...|       0.0|\n",
      "|            9.0|(30,[1,9,28,29],[...|[3.25952380025313...|[0.34529629982216...|       0.0|\n",
      "|            9.0|(30,[6,9,28,29],[...|[3.39254019543835...|[0.33574638477282...|       0.0|\n",
      "|            9.0|(30,[9,26,28,29],...|[3.98356892618044...|[0.35217472107814...|       0.0|\n",
      "|            9.0|(30,[6,9,26,28,29...|[3.58119939341421...|[0.33519511184968...|       0.0|\n",
      "+---------------+--------------------+--------------------+--------------------+----------+\n",
      "only showing top 20 rows\n",
      "\n"
     ]
    }
   ],
   "source": [
    "prediction_full.show()"
   ]
  },
  {
   "cell_type": "markdown",
   "metadata": {},
   "source": [
    "### Evaluation: Full Training Set"
   ]
  },
  {
   "cell_type": "code",
   "execution_count": 27,
   "metadata": {},
   "outputs": [],
   "source": [
    "# evaluation\n",
    "evaluator = MulticlassClassificationEvaluator(\n",
    "    labelCol=\"ucd_short_index\", predictionCol=\"prediction\", metricName=\"accuracy\")"
   ]
  },
  {
   "cell_type": "code",
   "execution_count": 28,
   "metadata": {},
   "outputs": [
    {
     "name": "stdout",
     "output_type": "stream",
     "text": [
      "Accuracy: 34.55423957482799%\n",
      "Test Error: 65.44576042517201%\n"
     ]
    }
   ],
   "source": [
    "accuracy = evaluator.evaluate(prediction_full)\n",
    "\n",
    "print('Accuracy: ' + str(accuracy*100) + '%')\n",
    "print('Test Error: ' + str((1.0 - accuracy)*100) + '%')"
   ]
  },
  {
   "cell_type": "markdown",
   "metadata": {},
   "source": [
    "Accuracy for the base model is 34.6%."
   ]
  },
  {
   "cell_type": "code",
   "execution_count": 29,
   "metadata": {},
   "outputs": [
    {
     "name": "stdout",
     "output_type": "stream",
     "text": [
      "+----------+-------+\n",
      "|prediction|  count|\n",
      "+----------+-------+\n",
      "|       0.0|1227017|\n",
      "|      18.0|    536|\n",
      "|       1.0| 383334|\n",
      "|       4.0|    636|\n",
      "|      11.0|      2|\n",
      "|       3.0|    103|\n",
      "|       2.0|     41|\n",
      "|      17.0|  17709|\n",
      "|       5.0|  79081|\n",
      "|      12.0|     26|\n",
      "+----------+-------+\n",
      "\n"
     ]
    }
   ],
   "source": [
    "prediction_full.groupby(\"prediction\").count().show()"
   ]
  },
  {
   "cell_type": "code",
   "execution_count": 30,
   "metadata": {},
   "outputs": [
    {
     "data": {
      "text/plain": [
       "1708485"
      ]
     },
     "execution_count": 30,
     "metadata": {},
     "output_type": "execute_result"
    }
   ],
   "source": [
    "prediction_full.count()"
   ]
  },
  {
   "cell_type": "code",
   "execution_count": 31,
   "metadata": {},
   "outputs": [
    {
     "data": {
      "text/plain": [
       "0.7182304790501526"
      ]
     },
     "execution_count": 31,
     "metadata": {},
     "output_type": "execute_result"
    }
   ],
   "source": [
    "1227086 / 1708485"
   ]
  },
  {
   "cell_type": "markdown",
   "metadata": {},
   "source": [
    "71.8% of predictions were made for Circulatory Disease.  This is because the dataset is unbalanced.  Will attempt downsampling and rerun the model to see if predictions are more evenly distributed."
   ]
  },
  {
   "cell_type": "markdown",
   "metadata": {},
   "source": [
    "### Full Downsampled Training Set"
   ]
  },
  {
   "cell_type": "code",
   "execution_count": 32,
   "metadata": {},
   "outputs": [],
   "source": [
    "# function to do downsampling\n",
    "\n",
    "def downSample(df, target, seed):\n",
    "    \n",
    "    # gather counts of each class \n",
    "    class_counts = df.groupby(target).count()\n",
    "\n",
    "    # select smallest count size and corresponding class\n",
    "    smallest_class_size = class_counts.agg({'count': 'min'})\n",
    "    smallest_class_size = smallest_class_size.collect()[0]['min(count)']\n",
    "\n",
    "    # generate ratio of each class to smallest class - for use with .sample()\n",
    "    class_counts = class_counts.withColumn('min', lit(smallest_class_size))\n",
    "    class_counts = class_counts.withColumn('ratio', class_counts['min']/ class_counts['count'])\n",
    "\n",
    "    smallest_class = class_counts.filter(class_counts['count'] == class_counts['min']).collect()[0][target]\n",
    "    \n",
    "    # set up final dataframe to hold results - with only the smallest class to start\n",
    "    adjusted_df = df.filter(df[target] == smallest_class)\n",
    "\n",
    "    # iterate over outcome classes, sampling to match count of smallest class\n",
    "    for i in range(class_counts.count()):\n",
    "\n",
    "        outcome_class = class_counts.collect()[i][target]\n",
    "        ratio = class_counts.collect()[i]['ratio']\n",
    "\n",
    "        if outcome_class != smallest_class: \n",
    "\n",
    "            subset = df.filter(df[target] == outcome_class)\n",
    "            subset_adjusted = subset.sample(False, ratio, seed = seed)\n",
    "\n",
    "            adjusted_df = adjusted_df.unionAll(subset_adjusted)\n",
    "            \n",
    "        else:\n",
    "            adjusted_df = adjusted_df\n",
    "\n",
    "    return adjusted_df"
   ]
  },
  {
   "cell_type": "code",
   "execution_count": 33,
   "metadata": {},
   "outputs": [],
   "source": [
    "adj_train = downSample(df = train_set, target = 'ucd_short', seed = 212)"
   ]
  },
  {
   "cell_type": "code",
   "execution_count": 34,
   "metadata": {},
   "outputs": [
    {
     "name": "stdout",
     "output_type": "stream",
     "text": [
      "+---------+-----+\n",
      "|ucd_short|count|\n",
      "+---------+-----+\n",
      "|        L|  676|\n",
      "|        B|  691|\n",
      "|        V|  691|\n",
      "|        W|  699|\n",
      "|        D|  700|\n",
      "|        R|  705|\n",
      "|        J|  707|\n",
      "|        C|  709|\n",
      "|        P|  713|\n",
      "|        I|  716|\n",
      "|        Y|  716|\n",
      "|        Q|  719|\n",
      "|        M|  720|\n",
      "|        A|  721|\n",
      "|        K|  721|\n",
      "|        O|  721|\n",
      "|        E|  733|\n",
      "|        N|  734|\n",
      "|        G|  734|\n",
      "|        X|  739|\n",
      "+---------+-----+\n",
      "only showing top 20 rows\n",
      "\n"
     ]
    }
   ],
   "source": [
    "adj_train.groupby(\"ucd_short\").count().sort('count').show()"
   ]
  },
  {
   "cell_type": "code",
   "execution_count": 35,
   "metadata": {},
   "outputs": [
    {
     "name": "stdout",
     "output_type": "stream",
     "text": [
      "root\n",
      " |-- ucd_short_index: double (nullable = false)\n",
      " |-- features: vector (nullable = true)\n",
      "\n"
     ]
    }
   ],
   "source": [
    "# StringIndexer transformers to encode categorical features as numerical for vector assembly\n",
    "indexed1_adj = indexer1.fit(adj_train).transform(adj_train)\n",
    "indexed2_adj = indexer2.fit(indexed1_adj).transform(indexed1_adj)\n",
    "indexed_adj = indexer3.fit(indexed2_adj).transform(indexed2_adj)\n",
    "\n",
    "# One-Hot Encoder\n",
    "model_adj = encoder.fit(indexed_adj)\n",
    "encoded_adj = model_adj.transform(indexed_adj)\n",
    "\n",
    "# VectorAssembler to package the features for model\n",
    "output_adj = assembler_full.transform(encoded_adj)\n",
    "\n",
    "# Cleanup\n",
    "cleanup_adj = output_adj.select(\"ucd_short_index\", \"features\")\n",
    "cleanup_adj.printSchema()\n",
    "\n",
    "# Model\n",
    "mlr_adj = LogisticRegression(featuresCol = \"features\", labelCol = \"ucd_short_index\", family = \"multinomial\")\n",
    "mlrModel_adj = mlr_adj.fit(cleanup_adj)\n",
    "prediction_adj = mlrModel_adj.transform(cleanup_adj)"
   ]
  },
  {
   "cell_type": "code",
   "execution_count": 36,
   "metadata": {},
   "outputs": [
    {
     "name": "stdout",
     "output_type": "stream",
     "text": [
      "+---------------+--------------------+--------------------+--------------------+----------+\n",
      "|ucd_short_index|            features|       rawPrediction|         probability|prediction|\n",
      "+---------------+--------------------+--------------------+--------------------+----------+\n",
      "|            7.0|(30,[7,11,29],[1....|[-1.5409515579916...|[0.00346895753445...|       7.0|\n",
      "|            7.0|(30,[7,12,27,29],...|[-2.0140562186020...|[0.00241958355446...|       7.0|\n",
      "|            7.0|(30,[6,11,27,29],...|[-1.9645712464057...|[0.00298815800337...|       7.0|\n",
      "|            7.0|(30,[7,11,25,29],...|[-2.0323252344512...|[8.80738053847463...|       7.0|\n",
      "|            7.0|(30,[1,9,27,29],[...|[-3.3270713716617...|[2.49628391602761...|      12.0|\n",
      "|            7.0|(30,[6,12,27,29],...|[-2.4814745490735...|[0.00121393536252...|       7.0|\n",
      "|            7.0|(30,[7,14,27,29],...|[-2.7380997418824...|[3.83748937694834...|       7.0|\n",
      "|            7.0|(30,[6,12,25,29],...|[-1.9060845952212...|[0.00195370490040...|       7.0|\n",
      "|            7.0|(30,[7,11,25,29],...|[-2.2405556605204...|[5.33045360033816...|       7.0|\n",
      "|            7.0|(30,[6,9,25,29],[...|[-2.3115370869323...|[0.00293521495801...|       9.0|\n",
      "|            7.0|(30,[7,10,29],[1....|[-1.6634303524504...|[0.00275439383122...|       7.0|\n",
      "|            7.0|(30,[6,11,29],[1....|[-2.0777800304862...|[0.00159570776799...|       7.0|\n",
      "|            7.0|(30,[6,12,27,29],...|[-2.3426542650273...|[0.00158127372979...|       7.0|\n",
      "|            7.0|(30,[6,12,25,29],...|[-1.6978541691520...|[0.00291031935214...|       7.0|\n",
      "|            7.0|(30,[6,12,25,29],...|[-0.7955223228520...|[0.01159759582236...|       7.0|\n",
      "|            7.0|(30,[6,13,25,29],...|[-1.4742909373530...|[0.00486534485665...|       7.0|\n",
      "|            7.0|(30,[6,13,29],[1....|[-0.7052766928011...|[0.01552332424767...|      10.0|\n",
      "|            7.0|(30,[7,14,27,29],...|[-1.7663577535593...|[0.00327320674078...|       7.0|\n",
      "|            7.0|(30,[6,15,25,29],...|[-2.2233278051995...|[7.97857150769844...|       7.0|\n",
      "|            7.0|(30,[14,25,29],[1...|[-1.9187568244919...|[0.00125608088763...|       7.0|\n",
      "+---------------+--------------------+--------------------+--------------------+----------+\n",
      "only showing top 20 rows\n",
      "\n"
     ]
    }
   ],
   "source": [
    "prediction_adj.show()"
   ]
  },
  {
   "cell_type": "markdown",
   "metadata": {},
   "source": [
    "### Evaluation: Full Downsampled Training Set"
   ]
  },
  {
   "cell_type": "code",
   "execution_count": 37,
   "metadata": {},
   "outputs": [
    {
     "name": "stdout",
     "output_type": "stream",
     "text": [
      "Accuracy: 20.062633262260128%\n",
      "Test Error: 79.93736673773988%\n"
     ]
    }
   ],
   "source": [
    "accuracy = evaluator.evaluate(prediction_adj)\n",
    "\n",
    "print('Accuracy: ' + str(accuracy*100) + '%')\n",
    "print('Test Error: ' + str((1.0 - accuracy)*100) + '%')"
   ]
  },
  {
   "cell_type": "markdown",
   "metadata": {},
   "source": [
    "Downsampling reduced accuracy to 20.1%, but this is due to the model not resorting mainly to the naive conclusion of the most frequent class."
   ]
  },
  {
   "cell_type": "code",
   "execution_count": 38,
   "metadata": {},
   "outputs": [
    {
     "name": "stdout",
     "output_type": "stream",
     "text": [
      "+----------+-----+\n",
      "|prediction|count|\n",
      "+----------+-----+\n",
      "|       8.0|  634|\n",
      "|       0.0| 2483|\n",
      "|       7.0| 1520|\n",
      "|      18.0|  390|\n",
      "|       1.0| 1447|\n",
      "|       4.0|  392|\n",
      "|      11.0|   96|\n",
      "|      14.0| 1197|\n",
      "|      19.0|  829|\n",
      "|       3.0|  897|\n",
      "|       2.0|  520|\n",
      "|      17.0|  520|\n",
      "|      10.0|  296|\n",
      "|      13.0| 1065|\n",
      "|       6.0|  246|\n",
      "|      20.0|   12|\n",
      "|      15.0|  679|\n",
      "|       5.0|   42|\n",
      "|       9.0|  412|\n",
      "|      16.0|   50|\n",
      "+----------+-----+\n",
      "only showing top 20 rows\n",
      "\n"
     ]
    }
   ],
   "source": [
    "prediction_adj.groupby(\"prediction\").count().show()"
   ]
  },
  {
   "cell_type": "code",
   "execution_count": 39,
   "metadata": {},
   "outputs": [
    {
     "data": {
      "text/plain": [
       "15008"
      ]
     },
     "execution_count": 39,
     "metadata": {},
     "output_type": "execute_result"
    }
   ],
   "source": [
    "prediction_adj.count()"
   ]
  },
  {
   "cell_type": "code",
   "execution_count": 40,
   "metadata": {},
   "outputs": [
    {
     "data": {
      "text/plain": [
       "0.16544509594882728"
      ]
     },
     "execution_count": 40,
     "metadata": {},
     "output_type": "execute_result"
    }
   ],
   "source": [
    "2483 / 15008"
   ]
  },
  {
   "cell_type": "markdown",
   "metadata": {},
   "source": [
    "The predictions made for Circulatory Disease were reduced from 71.8% to 16.5% due to the downsampling."
   ]
  },
  {
   "cell_type": "markdown",
   "metadata": {},
   "source": [
    "## Validation Set"
   ]
  },
  {
   "cell_type": "markdown",
   "metadata": {},
   "source": [
    "### Cleaning"
   ]
  },
  {
   "cell_type": "code",
   "execution_count": 41,
   "metadata": {},
   "outputs": [
    {
     "name": "stdout",
     "output_type": "stream",
     "text": [
      "+----+---------+---+---+--------------+--------------------+---------+\n",
      "| ucd|education|sex|age|marital_status|hispanic_race_recode|ucd_short|\n",
      "+----+---------+---+---+--------------+--------------------+---------+\n",
      "|A045|        3|  F| 87|             M|                   6|        A|\n",
      "|A047|        1|  F| 74|             S|                   1|        A|\n",
      "|A047|        1|  F| 83|             M|                   1|        A|\n",
      "|A047|        1|  F| 96|             W|                   8|        A|\n",
      "|A047|        1|  M| 74|             M|                   1|        A|\n",
      "|A047|        1|  M| 80|             M|                   1|        A|\n",
      "|A047|        1|  M| 81|             M|                   6|        A|\n",
      "|A047|        1|  M| 90|             D|                   6|        A|\n",
      "|A047|        2|  F| 74|             W|                   6|        A|\n",
      "|A047|        2|  F| 80|             W|                   6|        A|\n",
      "|A047|        2|  F| 82|             W|                   6|        A|\n",
      "|A047|        2|  F| 86|             W|                   6|        A|\n",
      "|A047|        2|  F| 87|             W|                   7|        A|\n",
      "|A047|        2|  F| 87|             W|                   7|        A|\n",
      "|A047|        2|  F| 90|             S|                   6|        A|\n",
      "|A047|        2|  M| 56|             D|                   6|        A|\n",
      "|A047|        2|  M| 61|             M|                   6|        A|\n",
      "|A047|        2|  M| 75|             M|                   6|        A|\n",
      "|A047|        2|  M| 80|             D|                   6|        A|\n",
      "|A047|        3|  F| 62|             D|                   6|        A|\n",
      "+----+---------+---+---+--------------+--------------------+---------+\n",
      "only showing top 20 rows\n",
      "\n"
     ]
    }
   ],
   "source": [
    "val_set.show()"
   ]
  },
  {
   "cell_type": "code",
   "execution_count": 42,
   "metadata": {},
   "outputs": [
    {
     "name": "stdout",
     "output_type": "stream",
     "text": [
      "+---------+-----+\n",
      "|ucd_short|count|\n",
      "+---------+-----+\n",
      "|        H|   16|\n",
      "|        O|  155|\n",
      "|        L|  730|\n",
      "|        Q| 1485|\n",
      "|        P| 1609|\n",
      "|        M| 2082|\n",
      "|        Y| 2193|\n",
      "|        B| 2506|\n",
      "|        D| 4091|\n",
      "|        R| 5019|\n",
      "|        V| 6504|\n",
      "|        W| 7555|\n",
      "|        A| 8413|\n",
      "|        N|10823|\n",
      "|        K|16546|\n",
      "|        E|19260|\n",
      "|        X|19691|\n",
      "|        F|21705|\n",
      "|        G|31520|\n",
      "|        J|41936|\n",
      "+---------+-----+\n",
      "only showing top 20 rows\n",
      "\n"
     ]
    }
   ],
   "source": [
    "val_set.groupby(\"ucd_short\").count().sort('count').show()"
   ]
  },
  {
   "cell_type": "code",
   "execution_count": 43,
   "metadata": {},
   "outputs": [],
   "source": [
    "# there are only 16 observations for group 'H' - filter out\n",
    "\n",
    "val_set = val_set.filter(val_set.ucd_short != \"H\")"
   ]
  },
  {
   "cell_type": "code",
   "execution_count": 44,
   "metadata": {},
   "outputs": [
    {
     "name": "stdout",
     "output_type": "stream",
     "text": [
      "+---------+-----+\n",
      "|ucd_short|count|\n",
      "+---------+-----+\n",
      "|        O|  155|\n",
      "|        L|  730|\n",
      "|        Q| 1485|\n",
      "|        P| 1609|\n",
      "|        M| 2082|\n",
      "|        Y| 2193|\n",
      "|        B| 2506|\n",
      "|        D| 4091|\n",
      "|        R| 5019|\n",
      "|        V| 6504|\n",
      "|        W| 7555|\n",
      "|        A| 8413|\n",
      "|        N|10823|\n",
      "|        K|16546|\n",
      "|        E|19260|\n",
      "|        X|19691|\n",
      "|        F|21705|\n",
      "|        G|31520|\n",
      "|        J|41936|\n",
      "|        C|93591|\n",
      "+---------+-----+\n",
      "only showing top 20 rows\n",
      "\n"
     ]
    }
   ],
   "source": [
    "val_set.groupby(\"ucd_short\").count().sort('count').show()"
   ]
  },
  {
   "cell_type": "code",
   "execution_count": 45,
   "metadata": {},
   "outputs": [
    {
     "data": {
      "text/plain": [
       "21"
      ]
     },
     "execution_count": 45,
     "metadata": {},
     "output_type": "execute_result"
    }
   ],
   "source": [
    "val_set.select('ucd_short').distinct().count()"
   ]
  },
  {
   "cell_type": "markdown",
   "metadata": {},
   "source": [
    "### Downsampling"
   ]
  },
  {
   "cell_type": "code",
   "execution_count": 46,
   "metadata": {},
   "outputs": [],
   "source": [
    "adj_val = downSample(df = val_set, target = 'ucd_short', seed = 212)"
   ]
  },
  {
   "cell_type": "code",
   "execution_count": 47,
   "metadata": {},
   "outputs": [
    {
     "name": "stdout",
     "output_type": "stream",
     "text": [
      "+---------+-----+\n",
      "|ucd_short|count|\n",
      "+---------+-----+\n",
      "|        Y|  136|\n",
      "|        M|  141|\n",
      "|        Q|  141|\n",
      "|        L|  142|\n",
      "|        G|  145|\n",
      "|        B|  146|\n",
      "|        P|  146|\n",
      "|        O|  155|\n",
      "|        J|  155|\n",
      "|        I|  158|\n",
      "|        X|  159|\n",
      "|        E|  161|\n",
      "|        V|  161|\n",
      "|        K|  162|\n",
      "|        F|  162|\n",
      "|        D|  163|\n",
      "|        R|  164|\n",
      "|        N|  165|\n",
      "|        A|  166|\n",
      "|        W|  166|\n",
      "+---------+-----+\n",
      "only showing top 20 rows\n",
      "\n"
     ]
    }
   ],
   "source": [
    "adj_val.groupby(\"ucd_short\").count().sort('count').show()"
   ]
  },
  {
   "cell_type": "markdown",
   "metadata": {},
   "source": [
    "### Modeling"
   ]
  },
  {
   "cell_type": "code",
   "execution_count": 48,
   "metadata": {},
   "outputs": [
    {
     "name": "stdout",
     "output_type": "stream",
     "text": [
      "root\n",
      " |-- ucd_short_index: double (nullable = false)\n",
      " |-- features: vector (nullable = true)\n",
      "\n"
     ]
    }
   ],
   "source": [
    "# Full Model, Validation set, No downsampling\n",
    "\n",
    "# StringIndexer transformers to encode categorical features as numerical for vector assembly\n",
    "indexed1_v = indexer1.fit(val_set).transform(val_set)\n",
    "indexed2_v = indexer2.fit(indexed1_v).transform(indexed1_v)\n",
    "indexed_v = indexer3.fit(indexed2_v).transform(indexed2_v)\n",
    "\n",
    "# One-Hot Encoder\n",
    "model_v = encoder.fit(indexed_v)\n",
    "encoded_v = model_v.transform(indexed_v)\n",
    "\n",
    "# VectorAssembler to package the features for model\n",
    "output_v = assembler_full.transform(encoded_v)\n",
    "\n",
    "# Cleanup\n",
    "cleanup_v = output_v.select(\"ucd_short_index\", \"features\")\n",
    "cleanup_v.printSchema()\n",
    "\n",
    "# Model\n",
    "prediction_v = mlrModel_full.transform(cleanup_v)"
   ]
  },
  {
   "cell_type": "code",
   "execution_count": 49,
   "metadata": {},
   "outputs": [
    {
     "name": "stdout",
     "output_type": "stream",
     "text": [
      "Accuracy: 34.425038430449064%\n",
      "Test Error: 65.57496156955094%\n"
     ]
    }
   ],
   "source": [
    "# Evaluation\n",
    "accuracy = evaluator.evaluate(prediction_v)\n",
    "\n",
    "print('Accuracy: ' + str(accuracy*100) + '%')\n",
    "print('Test Error: ' + str((1.0 - accuracy)*100) + '%')"
   ]
  },
  {
   "cell_type": "markdown",
   "metadata": {},
   "source": [
    "Accuracy: 34.4%"
   ]
  },
  {
   "cell_type": "code",
   "execution_count": 50,
   "metadata": {},
   "outputs": [
    {
     "name": "stdout",
     "output_type": "stream",
     "text": [
      "+----------+------+\n",
      "|prediction| count|\n",
      "+----------+------+\n",
      "|       0.0|306690|\n",
      "|      18.0|   165|\n",
      "|       1.0| 96619|\n",
      "|       4.0|   168|\n",
      "|      11.0|     1|\n",
      "|       3.0|    29|\n",
      "|       2.0|     8|\n",
      "|      17.0|  4416|\n",
      "|       5.0| 19940|\n",
      "|      12.0|    10|\n",
      "+----------+------+\n",
      "\n"
     ]
    }
   ],
   "source": [
    "prediction_v.groupby(\"prediction\").count().show()"
   ]
  },
  {
   "cell_type": "code",
   "execution_count": 51,
   "metadata": {},
   "outputs": [
    {
     "data": {
      "text/plain": [
       "428046"
      ]
     },
     "execution_count": 51,
     "metadata": {},
     "output_type": "execute_result"
    }
   ],
   "source": [
    "prediction_v.count()"
   ]
  },
  {
   "cell_type": "code",
   "execution_count": 52,
   "metadata": {},
   "outputs": [
    {
     "data": {
      "text/plain": [
       "0.7164884147965406"
      ]
     },
     "execution_count": 52,
     "metadata": {},
     "output_type": "execute_result"
    }
   ],
   "source": [
    "306690/428046"
   ]
  },
  {
   "cell_type": "markdown",
   "metadata": {},
   "source": [
    "71.65% of predictions were made for Circulatory Disease.  Will attempt downsampling and rerun the model to see if predictions are more evenly distributed."
   ]
  },
  {
   "cell_type": "code",
   "execution_count": 53,
   "metadata": {},
   "outputs": [
    {
     "name": "stdout",
     "output_type": "stream",
     "text": [
      "root\n",
      " |-- ucd_short_index: double (nullable = false)\n",
      " |-- features: vector (nullable = true)\n",
      "\n"
     ]
    }
   ],
   "source": [
    "# Full Downsampled Model, Validation set\n",
    "\n",
    "# StringIndexer transformers to encode categorical features as numerical for vector assembly\n",
    "indexed1_adj_v = indexer1.fit(adj_val).transform(adj_val)\n",
    "indexed2_adj_v = indexer2.fit(indexed1_adj_v).transform(indexed1_adj_v)\n",
    "indexed_adj_v = indexer3.fit(indexed2_adj_v).transform(indexed2_adj_v)\n",
    "\n",
    "# One-Hot Encoder\n",
    "model_adj_v = encoder.fit(indexed_adj_v)\n",
    "encoded_adj_v = model_adj_v.transform(indexed_adj_v)\n",
    "\n",
    "# VectorAssembler to package the features for model\n",
    "output_adj_v = assembler_full.transform(encoded_adj_v)\n",
    "\n",
    "# Cleanup\n",
    "cleanup_adj_v = output_adj_v.select(\"ucd_short_index\", \"features\")\n",
    "cleanup_adj_v.printSchema()\n",
    "\n",
    "# Model\n",
    "prediction_adj_v = mlrModel_adj.transform(cleanup_adj_v)"
   ]
  },
  {
   "cell_type": "code",
   "execution_count": 54,
   "metadata": {},
   "outputs": [
    {
     "name": "stdout",
     "output_type": "stream",
     "text": [
      "+---------------+--------------------+--------------------+--------------------+----------+\n",
      "|ucd_short_index|            features|       rawPrediction|         probability|prediction|\n",
      "+---------------+--------------------+--------------------+--------------------+----------+\n",
      "|           13.0|(30,[7,11,25,28,2...|[-1.4390660178380...|[0.00426361727316...|       1.0|\n",
      "|           13.0|(30,[6,11,26,28,2...|[-1.3930541506783...|[0.00368007328808...|       1.0|\n",
      "|           13.0|(30,[6,11,27,28,2...|[-2.8289250122771...|[5.84619912305389...|       1.0|\n",
      "|           13.0|(30,[11,25,28,29]...|[-2.5139057527382...|[9.89735733437085...|      18.0|\n",
      "|           13.0|(30,[6,13,25,28,2...|[-2.4774649872706...|[0.00108292326352...|      18.0|\n",
      "|           13.0|(30,[13,25,28,29]...|[-2.3213748294455...|[0.00151655376328...|      18.0|\n",
      "|           13.0|(30,[6,12,25,28,2...|[-2.3539775089541...|[9.94368220854813...|       1.0|\n",
      "|           13.0|(30,[6,12,25,28,2...|[-2.4233876509772...|[8.92645856956415...|       1.0|\n",
      "|           13.0|(30,[12,27,28,29]...|[-1.8015353166583...|[0.00307182244215...|      18.0|\n",
      "|           13.0|(30,[7,11,27,28,2...|[-2.3615066818056...|[0.00142567311873...|       1.0|\n",
      "|           13.0|(30,[6,11,27,28,2...|[-2.3430540181156...|[0.00126707457085...|       1.0|\n",
      "|           13.0|(30,[6,12,27,28,2...|[-2.5823167526910...|[8.36783556314701...|      18.0|\n",
      "|           13.0|(30,[7,12,27,28,2...|[-2.0454882801965...|[0.00216957676346...|      18.0|\n",
      "|           13.0|(30,[6,14,27,28,2...|[-2.6816689977637...|[7.75027062891815...|       1.0|\n",
      "|           13.0|(30,[6,11,25,28,2...|[-1.8370742062864...|[0.00229761305792...|       1.0|\n",
      "|           13.0|(30,[6,11,27,28,2...|[-1.7877728819310...|[0.00291419622558...|       1.0|\n",
      "|           13.0|(30,[7,12,25,28,2...|[-0.4983563380211...|[0.01122800878530...|      19.0|\n",
      "|           13.0|(30,[7,11,25,28,2...|[-0.6061443135611...|[0.01097103567722...|      19.0|\n",
      "|           13.0|(30,[7,9,27,28,29...|[-2.8674016240461...|[3.92738397252197...|      12.0|\n",
      "|           13.0|(30,[6,10,27,28,2...|[-0.7996894040206...|[0.01007155498027...|       1.0|\n",
      "+---------------+--------------------+--------------------+--------------------+----------+\n",
      "only showing top 20 rows\n",
      "\n"
     ]
    }
   ],
   "source": [
    "prediction_adj_v.show()"
   ]
  },
  {
   "cell_type": "code",
   "execution_count": 55,
   "metadata": {},
   "outputs": [
    {
     "name": "stdout",
     "output_type": "stream",
     "text": [
      "Accuracy: 3.6491873658386997%\n",
      "Test Error: 96.3508126341613%\n"
     ]
    }
   ],
   "source": [
    "# Evaluation\n",
    "accuracy = evaluator.evaluate(prediction_adj_v)\n",
    "\n",
    "print('Accuracy: ' + str(accuracy*100) + '%')\n",
    "print('Test Error: ' + str((1.0 - accuracy)*100) + '%')"
   ]
  },
  {
   "cell_type": "markdown",
   "metadata": {},
   "source": [
    "Accuracy: 3.65%"
   ]
  },
  {
   "cell_type": "markdown",
   "metadata": {},
   "source": [
    "Validation set accuracy, using downsampling, is 3.65% (much lower than the training set.  Overtrained.)"
   ]
  },
  {
   "cell_type": "code",
   "execution_count": 56,
   "metadata": {},
   "outputs": [
    {
     "name": "stdout",
     "output_type": "stream",
     "text": [
      "+----------+-----+\n",
      "|prediction|count|\n",
      "+----------+-----+\n",
      "|       8.0|  220|\n",
      "|       0.0|  460|\n",
      "|       7.0|  366|\n",
      "|      18.0|  102|\n",
      "|       1.0|  256|\n",
      "|       4.0|   57|\n",
      "|      11.0|   49|\n",
      "|      14.0|  223|\n",
      "|      19.0|  173|\n",
      "|       3.0|  215|\n",
      "|       2.0|  123|\n",
      "|      17.0|  206|\n",
      "|      10.0|   68|\n",
      "|      13.0|  178|\n",
      "|       6.0|   59|\n",
      "|      20.0|    4|\n",
      "|      15.0|  103|\n",
      "|       5.0|    7|\n",
      "|       9.0|  122|\n",
      "|      16.0|    3|\n",
      "+----------+-----+\n",
      "only showing top 20 rows\n",
      "\n"
     ]
    }
   ],
   "source": [
    "prediction_adj_v.groupby(\"prediction\").count().show()"
   ]
  },
  {
   "cell_type": "code",
   "execution_count": 57,
   "metadata": {},
   "outputs": [
    {
     "data": {
      "text/plain": [
       "3261"
      ]
     },
     "execution_count": 57,
     "metadata": {},
     "output_type": "execute_result"
    }
   ],
   "source": [
    "prediction_adj_v.count()"
   ]
  },
  {
   "cell_type": "code",
   "execution_count": 58,
   "metadata": {},
   "outputs": [
    {
     "data": {
      "text/plain": [
       "0.14106102422569763"
      ]
     },
     "execution_count": 58,
     "metadata": {},
     "output_type": "execute_result"
    }
   ],
   "source": [
    "460/3261"
   ]
  },
  {
   "cell_type": "markdown",
   "metadata": {},
   "source": [
    "Circulatory disease predictions: 14.11%"
   ]
  },
  {
   "cell_type": "markdown",
   "metadata": {},
   "source": [
    "## Hyperparameter Tuning (On Downsampled Data)"
   ]
  },
  {
   "cell_type": "markdown",
   "metadata": {},
   "source": [
    "### No Intercept model, training set"
   ]
  },
  {
   "cell_type": "code",
   "execution_count": 59,
   "metadata": {},
   "outputs": [],
   "source": [
    "# Model\n",
    "mlr_adj_noint = LogisticRegression(featuresCol = \"features\", labelCol = \"ucd_short_index\", family = \"multinomial\", fitIntercept = False)\n",
    "mlrModel_adj_noint = mlr_adj_noint.fit(cleanup_adj)\n",
    "prediction_adj_noint = mlrModel_adj_noint.transform(cleanup_adj)"
   ]
  },
  {
   "cell_type": "code",
   "execution_count": 60,
   "metadata": {},
   "outputs": [
    {
     "name": "stdout",
     "output_type": "stream",
     "text": [
      "Accuracy: 19.962686567164177%\n",
      "Test Error: 80.03731343283582%\n"
     ]
    }
   ],
   "source": [
    "accuracy = evaluator.evaluate(prediction_adj_noint)\n",
    "\n",
    "print('Accuracy: ' + str(accuracy*100) + '%')\n",
    "print('Test Error: ' + str((1.0 - accuracy)*100) + '%')"
   ]
  },
  {
   "cell_type": "markdown",
   "metadata": {},
   "source": [
    "Accuracy: 20.0%"
   ]
  },
  {
   "cell_type": "markdown",
   "metadata": {},
   "source": [
    "### No Intercept model, Validation set"
   ]
  },
  {
   "cell_type": "code",
   "execution_count": 61,
   "metadata": {},
   "outputs": [],
   "source": [
    "# Model\n",
    "prediction_adj_v_noint = mlrModel_adj_noint.transform(cleanup_adj_v)"
   ]
  },
  {
   "cell_type": "code",
   "execution_count": 62,
   "metadata": {},
   "outputs": [
    {
     "name": "stdout",
     "output_type": "stream",
     "text": [
      "Accuracy: 3.833180006133088%\n",
      "Test Error: 96.16681999386691%\n"
     ]
    }
   ],
   "source": [
    "# Evaluation\n",
    "accuracy = evaluator.evaluate(prediction_adj_v_noint)\n",
    "\n",
    "print('Accuracy: ' + str(accuracy*100) + '%')\n",
    "print('Test Error: ' + str((1.0 - accuracy)*100) + '%')"
   ]
  },
  {
   "cell_type": "markdown",
   "metadata": {},
   "source": [
    "Accuracy: 3.84%"
   ]
  },
  {
   "cell_type": "markdown",
   "metadata": {},
   "source": [
    "### Including Elastic Net parameter, training set"
   ]
  },
  {
   "cell_type": "code",
   "execution_count": 63,
   "metadata": {},
   "outputs": [],
   "source": [
    "# Model\n",
    "mlr_adj_elast = LogisticRegression(featuresCol = \"features\", labelCol = \"ucd_short_index\", family = \"multinomial\", elasticNetParam = 0.5)\n",
    "mlrModel_adj_elast = mlr_adj_elast.fit(cleanup_adj)\n",
    "prediction_adj_elast = mlrModel_adj_elast.transform(cleanup_adj)"
   ]
  },
  {
   "cell_type": "code",
   "execution_count": 64,
   "metadata": {},
   "outputs": [
    {
     "name": "stdout",
     "output_type": "stream",
     "text": [
      "Accuracy: 20.062633262260128%\n",
      "Test Error: 79.93736673773988%\n"
     ]
    }
   ],
   "source": [
    "accuracy = evaluator.evaluate(prediction_adj_elast)\n",
    "\n",
    "print('Accuracy: ' + str(accuracy*100) + '%')\n",
    "print('Test Error: ' + str((1.0 - accuracy)*100) + '%')"
   ]
  },
  {
   "cell_type": "markdown",
   "metadata": {},
   "source": [
    "Accuracy: 20.1%"
   ]
  },
  {
   "cell_type": "markdown",
   "metadata": {},
   "source": [
    "### Including Elastic Net parameter, Validation set"
   ]
  },
  {
   "cell_type": "code",
   "execution_count": 65,
   "metadata": {},
   "outputs": [],
   "source": [
    "# Model\n",
    "prediction_adj_v_elast = mlrModel_adj_elast.transform(cleanup_adj_v)"
   ]
  },
  {
   "cell_type": "code",
   "execution_count": 66,
   "metadata": {},
   "outputs": [
    {
     "name": "stdout",
     "output_type": "stream",
     "text": [
      "Accuracy: 3.6491873658386997%\n",
      "Test Error: 96.3508126341613%\n"
     ]
    }
   ],
   "source": [
    "accuracy = evaluator.evaluate(prediction_adj_v_elast)\n",
    "\n",
    "print('Accuracy: ' + str(accuracy*100) + '%')\n",
    "print('Test Error: ' + str((1.0 - accuracy)*100) + '%')"
   ]
  },
  {
   "cell_type": "markdown",
   "metadata": {},
   "source": [
    "Accuracy: 3.65%"
   ]
  },
  {
   "cell_type": "markdown",
   "metadata": {},
   "source": [
    "### Variable Reduction to Age & Sex, training set"
   ]
  },
  {
   "cell_type": "code",
   "execution_count": 67,
   "metadata": {},
   "outputs": [
    {
     "name": "stdout",
     "output_type": "stream",
     "text": [
      "root\n",
      " |-- ucd_short_index: double (nullable = false)\n",
      " |-- features: vector (nullable = true)\n",
      "\n"
     ]
    }
   ],
   "source": [
    "# StringIndexer transformers to encode categorical features as numerical for vector assembly\n",
    "indexer1 = StringIndexer(inputCol=\"sex\", outputCol=\"sex_index\")\n",
    "indexer2 = StringIndexer(inputCol=\"ucd_short\", outputCol=\"ucd_short_index\")\n",
    "\n",
    "indexed1_adj_r = indexer1.fit(train_set).transform(train_set)\n",
    "indexed_adj_r = indexer2.fit(indexed1_adj_r).transform(indexed1_adj_r)\n",
    "\n",
    "# VectorAssembler to package the features for model\n",
    "assembler_adj_r = VectorAssembler(inputCols=[\"sex_index\", \"age\"],\n",
    "                            outputCol=\"features\")\n",
    "output_adj_r = assembler_adj_r.transform(indexed_adj_r)\n",
    "\n",
    "# Cleanup\n",
    "cleanup_adj_r = output_adj_r.select(\"ucd_short_index\", \"features\")\n",
    "cleanup_adj_r.printSchema()\n",
    "\n",
    "# Model\n",
    "mlr_adj_r = LogisticRegression(featuresCol = \"features\", labelCol = \"ucd_short_index\", family = \"multinomial\")\n",
    "mlrModel_adj_r = mlr_adj_r.fit(cleanup_adj_r)\n",
    "prediction_adj_r = mlrModel_adj_r.transform(cleanup_adj_r)"
   ]
  },
  {
   "cell_type": "code",
   "execution_count": 68,
   "metadata": {},
   "outputs": [
    {
     "name": "stdout",
     "output_type": "stream",
     "text": [
      "Accuracy: 33.04167142234202%\n",
      "Test Error: 66.95832857765798%\n"
     ]
    }
   ],
   "source": [
    "accuracy = evaluator.evaluate(prediction_adj_r)\n",
    "\n",
    "print('Accuracy: ' + str(accuracy*100) + '%')\n",
    "print('Test Error: ' + str((1.0 - accuracy)*100) + '%')"
   ]
  },
  {
   "cell_type": "markdown",
   "metadata": {},
   "source": [
    "Accuracy: 33.0%"
   ]
  },
  {
   "cell_type": "markdown",
   "metadata": {},
   "source": [
    "### Variable Reduction to Age & Sex, Validation set"
   ]
  },
  {
   "cell_type": "code",
   "execution_count": 69,
   "metadata": {},
   "outputs": [],
   "source": [
    "# Model\n",
    "prediction_adj_v_r = mlrModel_adj_r.transform(cleanup_adj_r)"
   ]
  },
  {
   "cell_type": "code",
   "execution_count": 70,
   "metadata": {},
   "outputs": [
    {
     "name": "stdout",
     "output_type": "stream",
     "text": [
      "Accuracy: 33.04167142234202%\n",
      "Test Error: 66.95832857765798%\n"
     ]
    }
   ],
   "source": [
    "accuracy = evaluator.evaluate(prediction_adj_v_r)\n",
    "\n",
    "print('Accuracy: ' + str(accuracy*100) + '%')\n",
    "print('Test Error: ' + str((1.0 - accuracy)*100) + '%')"
   ]
  },
  {
   "cell_type": "markdown",
   "metadata": {},
   "source": [
    "Accuracy: 33.04%"
   ]
  },
  {
   "cell_type": "markdown",
   "metadata": {},
   "source": [
    "## Test Set"
   ]
  },
  {
   "cell_type": "markdown",
   "metadata": {},
   "source": [
    "### Import and Cleaning"
   ]
  },
  {
   "cell_type": "code",
   "execution_count": 71,
   "metadata": {},
   "outputs": [],
   "source": [
    "# Read in test data\n",
    "test_data = spark.read.option(\"header\",True).option(\"inferSchema\",True).csv(\"test_data\")"
   ]
  },
  {
   "cell_type": "code",
   "execution_count": 72,
   "metadata": {},
   "outputs": [],
   "source": [
    "# Subset with potential features\n",
    "testing = test_data.select(\"ucd\", \"education\", \"sex\", \"age\", \"marital_status\", \"hispanic_race_recode\")"
   ]
  },
  {
   "cell_type": "code",
   "execution_count": 73,
   "metadata": {},
   "outputs": [
    {
     "name": "stdout",
     "output_type": "stream",
     "text": [
      "root\n",
      " |-- ucd: string (nullable = true)\n",
      " |-- education: integer (nullable = true)\n",
      " |-- sex: string (nullable = true)\n",
      " |-- age: integer (nullable = true)\n",
      " |-- marital_status: string (nullable = true)\n",
      " |-- hispanic_race_recode: integer (nullable = true)\n",
      "\n"
     ]
    }
   ],
   "source": [
    "testing.printSchema()"
   ]
  },
  {
   "cell_type": "code",
   "execution_count": 74,
   "metadata": {},
   "outputs": [],
   "source": [
    "# strip UCD codes to include first letter only, for response level reduction\n",
    "testing = testing.withColumn(\"ucd_short\", regexp_replace('ucd', '\\\\d+', ''))"
   ]
  },
  {
   "cell_type": "code",
   "execution_count": 75,
   "metadata": {},
   "outputs": [],
   "source": [
    "# replace age coding values\n",
    "testing = testing.withColumn(\"age\", replace(col(\"age\"), 999)) # change age value coded as unknown (999) to null"
   ]
  },
  {
   "cell_type": "code",
   "execution_count": 76,
   "metadata": {},
   "outputs": [
    {
     "data": {
      "text/plain": [
       "0"
      ]
     },
     "execution_count": 76,
     "metadata": {},
     "output_type": "execute_result"
    }
   ],
   "source": [
    "testing.filter(testing.age == 999).count() # yes - 999 codes have been replaced "
   ]
  },
  {
   "cell_type": "code",
   "execution_count": 77,
   "metadata": {},
   "outputs": [
    {
     "name": "stdout",
     "output_type": "stream",
     "text": [
      "+---------+------+\n",
      "|ucd_short| count|\n",
      "+---------+------+\n",
      "|        I|168944|\n",
      "|        C|119737|\n",
      "|        J| 54616|\n",
      "|        G| 39785|\n",
      "|        F| 27609|\n",
      "+---------+------+\n",
      "only showing top 5 rows\n",
      "\n"
     ]
    }
   ],
   "source": [
    "testing.groupby(\"ucd_short\").count().orderBy('count', ascending=False).show(5) # top 5 causes of death with counts"
   ]
  },
  {
   "cell_type": "code",
   "execution_count": 78,
   "metadata": {},
   "outputs": [
    {
     "data": {
      "text/plain": [
       "550650"
      ]
     },
     "execution_count": 78,
     "metadata": {},
     "output_type": "execute_result"
    }
   ],
   "source": [
    "testing.count() # rows in training set"
   ]
  },
  {
   "cell_type": "code",
   "execution_count": 79,
   "metadata": {},
   "outputs": [
    {
     "data": {
      "text/plain": [
       "0.3068083174430219"
      ]
     },
     "execution_count": 79,
     "metadata": {},
     "output_type": "execute_result"
    }
   ],
   "source": [
    "168944/550650"
   ]
  },
  {
   "cell_type": "markdown",
   "metadata": {},
   "source": [
    "30.7% of the deaths in the test set are from circulatory disease."
   ]
  },
  {
   "cell_type": "code",
   "execution_count": 80,
   "metadata": {},
   "outputs": [],
   "source": [
    "# drop rows with null or nans\n",
    "testing = testing.na.drop()"
   ]
  },
  {
   "cell_type": "code",
   "execution_count": 81,
   "metadata": {},
   "outputs": [
    {
     "data": {
      "text/plain": [
       "534741"
      ]
     },
     "execution_count": 81,
     "metadata": {},
     "output_type": "execute_result"
    }
   ],
   "source": [
    "testing.count()"
   ]
  },
  {
   "cell_type": "code",
   "execution_count": 82,
   "metadata": {},
   "outputs": [
    {
     "data": {
      "text/plain": [
       "2.889131026968128"
      ]
     },
     "execution_count": 82,
     "metadata": {},
     "output_type": "execute_result"
    }
   ],
   "source": [
    "(1 - (534741/550650))*100 # dropped 2.9% of dataset because of null values"
   ]
  },
  {
   "cell_type": "code",
   "execution_count": 83,
   "metadata": {},
   "outputs": [
    {
     "name": "stdout",
     "output_type": "stream",
     "text": [
      "+---------+-----+\n",
      "|ucd_short|count|\n",
      "+---------+-----+\n",
      "|        H|   21|\n",
      "|        O|  209|\n",
      "|        L|  951|\n",
      "|        Q| 1745|\n",
      "|        P| 1990|\n",
      "|        Y| 2649|\n",
      "|        M| 2729|\n",
      "|        B| 3139|\n",
      "|        D| 5207|\n",
      "|        R| 6281|\n",
      "|        V| 8049|\n",
      "|        W| 9225|\n",
      "|        A|10509|\n",
      "|        N|13731|\n",
      "|        K|20263|\n",
      "|        E|23831|\n",
      "|        X|24710|\n",
      "|        F|26735|\n",
      "|        G|39016|\n",
      "|        J|53003|\n",
      "+---------+-----+\n",
      "only showing top 20 rows\n",
      "\n"
     ]
    }
   ],
   "source": [
    "testing.groupby(\"ucd_short\").count().sort('count').show()"
   ]
  },
  {
   "cell_type": "code",
   "execution_count": 84,
   "metadata": {},
   "outputs": [],
   "source": [
    "# there are only 21 observations for group 'H' - filter out\n",
    "testing = testing.filter(testing.ucd_short != \"H\")"
   ]
  },
  {
   "cell_type": "code",
   "execution_count": 85,
   "metadata": {},
   "outputs": [
    {
     "data": {
      "text/plain": [
       "21"
      ]
     },
     "execution_count": 85,
     "metadata": {},
     "output_type": "execute_result"
    }
   ],
   "source": [
    "testing.select('ucd_short').distinct().count()"
   ]
  },
  {
   "cell_type": "code",
   "execution_count": 90,
   "metadata": {},
   "outputs": [
    {
     "name": "stdout",
     "output_type": "stream",
     "text": [
      "+----+---------+---+---+--------------+--------------------+---------+\n",
      "| ucd|education|sex|age|marital_status|hispanic_race_recode|ucd_short|\n",
      "+----+---------+---+---+--------------+--------------------+---------+\n",
      "| C61|        1|  M| 82|             M|                   7|        C|\n",
      "|E142|        1|  F| 74|             M|                   1|        E|\n",
      "|I429|        2|  M| 70|             S|                   8|        I|\n",
      "|C349|        3|  M| 89|             W|                   6|        C|\n",
      "|I119|        3|  M| 67|             S|                   7|        I|\n",
      "+----+---------+---+---+--------------+--------------------+---------+\n",
      "only showing top 5 rows\n",
      "\n"
     ]
    }
   ],
   "source": [
    "testing.show(5)"
   ]
  },
  {
   "cell_type": "markdown",
   "metadata": {},
   "source": [
    "### Downsampling"
   ]
  },
  {
   "cell_type": "code",
   "execution_count": 86,
   "metadata": {},
   "outputs": [],
   "source": [
    "adj_test = downSample(df = testing, target = 'ucd_short', seed = 212)"
   ]
  },
  {
   "cell_type": "code",
   "execution_count": 87,
   "metadata": {},
   "outputs": [
    {
     "name": "stdout",
     "output_type": "stream",
     "text": [
      "+---------+-----+\n",
      "|ucd_short|count|\n",
      "+---------+-----+\n",
      "|        L|  180|\n",
      "|        P|  187|\n",
      "|        B|  189|\n",
      "|        Q|  190|\n",
      "|        M|  190|\n",
      "|        D|  191|\n",
      "|        N|  194|\n",
      "|        Y|  195|\n",
      "|        C|  196|\n",
      "|        X|  199|\n",
      "|        V|  199|\n",
      "|        K|  203|\n",
      "|        F|  204|\n",
      "|        E|  207|\n",
      "|        I|  208|\n",
      "|        O|  209|\n",
      "|        J|  209|\n",
      "|        A|  210|\n",
      "|        W|  210|\n",
      "|        R|  212|\n",
      "+---------+-----+\n",
      "only showing top 20 rows\n",
      "\n"
     ]
    }
   ],
   "source": [
    "adj_test.groupby(\"ucd_short\").count().sort('count').show()"
   ]
  },
  {
   "cell_type": "markdown",
   "metadata": {},
   "source": [
    "### Modeling"
   ]
  },
  {
   "cell_type": "code",
   "execution_count": 94,
   "metadata": {},
   "outputs": [],
   "source": [
    "# StringIndexer transformers to encode categorical features as numerical for vector assembly\n",
    "indexer1 = StringIndexer(inputCol=\"marital_status\", outputCol=\"marital_status_index\")\n",
    "indexer2 = StringIndexer(inputCol=\"sex\", outputCol=\"sex_index\")\n",
    "indexer3 = StringIndexer(inputCol=\"ucd_short\", outputCol=\"ucd_short_index\")"
   ]
  },
  {
   "cell_type": "code",
   "execution_count": 95,
   "metadata": {},
   "outputs": [
    {
     "name": "stdout",
     "output_type": "stream",
     "text": [
      "root\n",
      " |-- ucd_short_index: double (nullable = false)\n",
      " |-- features: vector (nullable = true)\n",
      "\n"
     ]
    }
   ],
   "source": [
    "# Full Model, Test set, No downsampling\n",
    "\n",
    "# StringIndexer transformers to encode categorical features as numerical for vector assembly\n",
    "indexed1_t = indexer1.fit(testing).transform(testing)\n",
    "indexed2_t = indexer2.fit(indexed1_t).transform(indexed1_t)\n",
    "indexed_t = indexer3.fit(indexed2_t).transform(indexed2_t)\n",
    "\n",
    "# One-Hot Encoder\n",
    "model_t = encoder.fit(indexed_t)\n",
    "encoded_t = model_t.transform(indexed_t)\n",
    "\n",
    "# VectorAssembler to package the features for model\n",
    "output_t = assembler_full.transform(encoded_t)\n",
    "\n",
    "# Cleanup\n",
    "cleanup_t = output_t.select(\"ucd_short_index\", \"features\")\n",
    "cleanup_t.printSchema()\n",
    "\n",
    "# Model\n",
    "prediction_t = mlrModel_full.transform(cleanup_t)"
   ]
  },
  {
   "cell_type": "code",
   "execution_count": 96,
   "metadata": {},
   "outputs": [
    {
     "name": "stdout",
     "output_type": "stream",
     "text": [
      "Accuracy: 34.53134350688211%\n",
      "Test Error: 65.46865649311789%\n"
     ]
    }
   ],
   "source": [
    "# Evaluation\n",
    "accuracy = evaluator.evaluate(prediction_t)\n",
    "\n",
    "print('Accuracy: ' + str(accuracy*100) + '%')\n",
    "print('Test Error: ' + str((1.0 - accuracy)*100) + '%')"
   ]
  },
  {
   "cell_type": "markdown",
   "metadata": {},
   "source": [
    "Accuracy: 34.53%"
   ]
  },
  {
   "cell_type": "code",
   "execution_count": 97,
   "metadata": {},
   "outputs": [
    {
     "name": "stdout",
     "output_type": "stream",
     "text": [
      "+----------+------+\n",
      "|prediction| count|\n",
      "+----------+------+\n",
      "|       0.0|383491|\n",
      "|      18.0|   175|\n",
      "|       1.0|120408|\n",
      "|       4.0|   190|\n",
      "|      11.0|     1|\n",
      "|       3.0|    30|\n",
      "|       2.0|     9|\n",
      "|      17.0|  5442|\n",
      "|       5.0| 24960|\n",
      "|      12.0|    14|\n",
      "+----------+------+\n",
      "\n"
     ]
    }
   ],
   "source": [
    "prediction_t.groupby(\"prediction\").count().show()"
   ]
  },
  {
   "cell_type": "code",
   "execution_count": 98,
   "metadata": {},
   "outputs": [
    {
     "data": {
      "text/plain": [
       "534720"
      ]
     },
     "execution_count": 98,
     "metadata": {},
     "output_type": "execute_result"
    }
   ],
   "source": [
    "prediction_t.count()"
   ]
  },
  {
   "cell_type": "code",
   "execution_count": 99,
   "metadata": {},
   "outputs": [
    {
     "data": {
      "text/plain": [
       "0.7171809545182526"
      ]
     },
     "execution_count": 99,
     "metadata": {},
     "output_type": "execute_result"
    }
   ],
   "source": [
    "383491/534720"
   ]
  },
  {
   "cell_type": "markdown",
   "metadata": {},
   "source": [
    "71.72% of predictions were made for Circulatory Disease.  This is because the dataset is unbalanced.  Will attempt downsampling and rerun the model to see if predictions are more evenly distributed."
   ]
  },
  {
   "cell_type": "code",
   "execution_count": 100,
   "metadata": {},
   "outputs": [
    {
     "name": "stdout",
     "output_type": "stream",
     "text": [
      "root\n",
      " |-- ucd_short_index: double (nullable = false)\n",
      " |-- features: vector (nullable = true)\n",
      "\n"
     ]
    }
   ],
   "source": [
    "# Full Downsampled Model, Test set\n",
    "\n",
    "# StringIndexer transformers to encode categorical features as numerical for vector assembly\n",
    "indexed1_adj_t = indexer1.fit(adj_test).transform(adj_test)\n",
    "indexed2_adj_t = indexer2.fit(indexed1_adj_t).transform(indexed1_adj_t)\n",
    "indexed_adj_t = indexer3.fit(indexed2_adj_t).transform(indexed2_adj_t)\n",
    "\n",
    "# One-Hot Encoder\n",
    "model_adj_t = encoder.fit(indexed_adj_t)\n",
    "encoded_adj_t = model_adj_t.transform(indexed_adj_t)\n",
    "\n",
    "# VectorAssembler to package the features for model\n",
    "output_adj_t = assembler_full.transform(encoded_adj_t)\n",
    "\n",
    "# Cleanup\n",
    "cleanup_adj_t = output_adj_t.select(\"ucd_short_index\", \"features\")\n",
    "cleanup_adj_t.printSchema()\n",
    "\n",
    "# Model\n",
    "prediction_adj_t = mlrModel_adj.transform(cleanup_adj_t)"
   ]
  },
  {
   "cell_type": "code",
   "execution_count": 101,
   "metadata": {},
   "outputs": [
    {
     "name": "stdout",
     "output_type": "stream",
     "text": [
      "Accuracy: 5.552907530981887%\n",
      "Test Error: 94.44709246901812%\n"
     ]
    }
   ],
   "source": [
    "# Evaluation\n",
    "accuracy = evaluator.evaluate(prediction_adj_t)\n",
    "\n",
    "print('Accuracy: ' + str(accuracy*100) + '%')\n",
    "print('Test Error: ' + str((1.0 - accuracy)*100) + '%')"
   ]
  },
  {
   "cell_type": "markdown",
   "metadata": {},
   "source": [
    "Accuracy: 5.55%"
   ]
  },
  {
   "cell_type": "code",
   "execution_count": 102,
   "metadata": {},
   "outputs": [
    {
     "name": "stdout",
     "output_type": "stream",
     "text": [
      "+----------+-----+\n",
      "|prediction|count|\n",
      "+----------+-----+\n",
      "|       8.0|  183|\n",
      "|       0.0|  737|\n",
      "|       7.0|  429|\n",
      "|      18.0|  115|\n",
      "|       1.0|  369|\n",
      "|       4.0|   86|\n",
      "|      11.0|   32|\n",
      "|      14.0|  353|\n",
      "|      19.0|  246|\n",
      "|       3.0|  225|\n",
      "|       2.0|  120|\n",
      "|      17.0|  182|\n",
      "|      10.0|   78|\n",
      "|      13.0|  320|\n",
      "|       6.0|   57|\n",
      "|      20.0|    4|\n",
      "|      15.0|  178|\n",
      "|       5.0|    8|\n",
      "|       9.0|  127|\n",
      "|      16.0|    4|\n",
      "+----------+-----+\n",
      "only showing top 20 rows\n",
      "\n"
     ]
    }
   ],
   "source": [
    "prediction_adj_t.groupby(\"prediction\").count().show()"
   ]
  },
  {
   "cell_type": "code",
   "execution_count": 103,
   "metadata": {},
   "outputs": [
    {
     "data": {
      "text/plain": [
       "4196"
      ]
     },
     "execution_count": 103,
     "metadata": {},
     "output_type": "execute_result"
    }
   ],
   "source": [
    "prediction_adj_t.count()"
   ]
  },
  {
   "cell_type": "code",
   "execution_count": 104,
   "metadata": {},
   "outputs": [
    {
     "data": {
      "text/plain": [
       "0.17564346997140134"
      ]
     },
     "execution_count": 104,
     "metadata": {},
     "output_type": "execute_result"
    }
   ],
   "source": [
    "737/4196"
   ]
  },
  {
   "cell_type": "markdown",
   "metadata": {},
   "source": [
    "Circulatory disease predictions: 17.56%"
   ]
  },
  {
   "cell_type": "markdown",
   "metadata": {},
   "source": [
    "## Pipelining"
   ]
  },
  {
   "cell_type": "code",
   "execution_count": null,
   "metadata": {},
   "outputs": [],
   "source": [
    "# Pipelining\n",
    "# from pyspark.ml.linalg import Vectors\n",
    "# from pyspark.ml.feature import VectorAssembler\n",
    "# from pyspark.ml.feature import OneHotEncoder, StringIndexer\n",
    "# from pyspark.ml.feature import OneHotEncoderEstimator\n",
    "# from pyspark.ml.classification import LogisticRegression\n",
    "# from pyspark.ml import Pipeline\n",
    "\n",
    "# # Configure an ML pipeline, which consists of 5 stages: StringIndexers(1-3), OneHotEncoder, VectorAssembler.  Logistic Regression object kept out of Pipeline for now\n",
    "\n",
    "# indexer1 = StringIndexer(inputCol=\"marital_status\", outputCol=\"marital_status_index\")\n",
    "# indexer2 = StringIndexer(inputCol=\"sex\", outputCol=\"sex_index\")\n",
    "# indexer3 = StringIndexer(inputCol=\"ucd_short\", outputCol=\"ucd_short_index\")\n",
    "# encoder = OneHotEncoderEstimator(inputCols =[\"hispanic_race_recode\", \"education\", \"marital_status_index\"],\n",
    "#                                  outputCols = [\"cat_hispanic_race_recode\", \"cat_education\", \"cat_marital_status\"])\n",
    "# assembler = VectorAssembler(inputCols=[\"cat_hispanic_race_recode\", \"cat_education\", \"cat_marital_status\", \"sex_index\", \"age\"],\n",
    "#                             outputCol=\"features\")\n",
    "# multinomialRegression = LogisticRegression(featuresCol = \"features\", labelCol = \"ucd_short_index\", family = \"multinomial\")\n",
    "\n",
    "# pipeline = Pipeline(stages=[indexer1, indexer2, indexer3, encoder, assembler, multinomialRegression])"
   ]
  },
  {
   "cell_type": "code",
   "execution_count": null,
   "metadata": {},
   "outputs": [],
   "source": [
    "# multinomialModel = pipeline.fit(train_set)"
   ]
  },
  {
   "cell_type": "code",
   "execution_count": null,
   "metadata": {},
   "outputs": [],
   "source": [
    "# transformed_train = multinomialModel.transform(train_set)"
   ]
  }
 ],
 "metadata": {
  "kernelspec": {
   "display_name": "DS 5559",
   "language": "python",
   "name": "ds5559"
  },
  "language_info": {
   "codemirror_mode": {
    "name": "ipython",
    "version": 3
   },
   "file_extension": ".py",
   "mimetype": "text/x-python",
   "name": "python",
   "nbconvert_exporter": "python",
   "pygments_lexer": "ipython3",
   "version": "3.7.6"
  }
 },
 "nbformat": 4,
 "nbformat_minor": 4
}
