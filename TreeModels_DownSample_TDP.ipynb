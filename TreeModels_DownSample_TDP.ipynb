{
 "cells": [
  {
   "cell_type": "markdown",
   "metadata": {},
   "source": [
    "## Tree-Based Multinomial Classification Models"
   ]
  },
  {
   "cell_type": "markdown",
   "metadata": {},
   "source": [
    "#### Setup"
   ]
  },
  {
   "cell_type": "code",
   "execution_count": 1,
   "metadata": {},
   "outputs": [],
   "source": [
    "from pyspark.sql import SparkSession\n",
    "\n",
    "spark = SparkSession.builder \\\n",
    ".master(\"local[*]\") \\\n",
    ".appName(\"spark_setup\") \\\n",
    ".getOrCreate()"
   ]
  },
  {
   "cell_type": "code",
   "execution_count": 2,
   "metadata": {},
   "outputs": [
    {
     "data": {
      "text/plain": [
       "2200579"
      ]
     },
     "execution_count": 2,
     "metadata": {},
     "output_type": "execute_result"
    }
   ],
   "source": [
    "# Read in train data\n",
    "train_data = spark.read.option(\"header\",True).option(\"inferSchema\",True).csv(\"train_data\")\n",
    "train_data.count()"
   ]
  },
  {
   "cell_type": "code",
   "execution_count": 3,
   "metadata": {},
   "outputs": [
    {
     "data": {
      "text/plain": [
       "['line_str',\n",
       " 'resident_status',\n",
       " 'education',\n",
       " 'education_flag',\n",
       " 'death_month',\n",
       " 'sex',\n",
       " 'age_flag',\n",
       " 'age',\n",
       " 'age_sub_flag',\n",
       " 'place_of_death',\n",
       " 'marital_status',\n",
       " 'death_day_of_week',\n",
       " 'death_year',\n",
       " 'work_injury',\n",
       " 'death_manner',\n",
       " 'disposition_method',\n",
       " 'autopsy',\n",
       " 'activity_code',\n",
       " 'place_of_injury',\n",
       " 'ucd',\n",
       " 'ucd_recode_113',\n",
       " 'ucd_recode_39',\n",
       " 'mcd_count_R',\n",
       " 'mcd_1_R',\n",
       " 'mcd_2_R',\n",
       " 'mcd_3_R',\n",
       " 'mcd_4_R',\n",
       " 'mcd_5_R',\n",
       " 'mcd_6_R',\n",
       " 'mcd_7_R',\n",
       " 'mcd_8_R',\n",
       " 'mcd_9_R',\n",
       " 'mcd_10_R',\n",
       " 'mcd_11_R',\n",
       " 'mcd_12_R',\n",
       " 'mcd_13_R',\n",
       " 'mcd_14_R',\n",
       " 'mcd_15_R',\n",
       " 'mcd_16_R',\n",
       " 'mcd_17_R',\n",
       " 'mcd_18_R',\n",
       " 'mcd_19_R',\n",
       " 'mcd_20_R',\n",
       " 'race',\n",
       " 'race_bridged_flag',\n",
       " 'race_imputed_flag',\n",
       " 'hispanic',\n",
       " 'hispanic_race_recode']"
      ]
     },
     "execution_count": 3,
     "metadata": {},
     "output_type": "execute_result"
    }
   ],
   "source": [
    "train_data.columns"
   ]
  },
  {
   "cell_type": "markdown",
   "metadata": {},
   "source": [
    "Will use the UCD 39-cause recode for dimension reduction."
   ]
  },
  {
   "cell_type": "code",
   "execution_count": 4,
   "metadata": {},
   "outputs": [],
   "source": [
    "# subset with potential features\n",
    "training = train_data.select(\"ucd\", \"education\", \"sex\", \"age\", \"marital_status\", \"hispanic_race_recode\")"
   ]
  },
  {
   "cell_type": "code",
   "execution_count": 5,
   "metadata": {},
   "outputs": [
    {
     "name": "stdout",
     "output_type": "stream",
     "text": [
      "root\n",
      " |-- ucd: string (nullable = true)\n",
      " |-- education: integer (nullable = true)\n",
      " |-- sex: string (nullable = true)\n",
      " |-- age: integer (nullable = true)\n",
      " |-- marital_status: string (nullable = true)\n",
      " |-- hispanic_race_recode: integer (nullable = true)\n",
      "\n"
     ]
    }
   ],
   "source": [
    "training.printSchema()"
   ]
  },
  {
   "cell_type": "code",
   "execution_count": 6,
   "metadata": {},
   "outputs": [
    {
     "name": "stdout",
     "output_type": "stream",
     "text": [
      "+----+---------+---+---+--------------+--------------------+\n",
      "| ucd|education|sex|age|marital_status|hispanic_race_recode|\n",
      "+----+---------+---+---+--------------+--------------------+\n",
      "| F03|       14|  F| 94|             W|                   6|\n",
      "|J449|       12|  F| 70|             M|                   6|\n",
      "|I219|       16|  M| 88|             M|                   6|\n",
      "|C259|       12|  M| 77|             M|                   6|\n",
      "|F102|       12|  F| 46|             D|                   1|\n",
      "+----+---------+---+---+--------------+--------------------+\n",
      "only showing top 5 rows\n",
      "\n"
     ]
    }
   ],
   "source": [
    "training.show(5)"
   ]
  },
  {
   "cell_type": "code",
   "execution_count": 7,
   "metadata": {},
   "outputs": [],
   "source": [
    "# strip UCD codes to include first letter only\n",
    "from pyspark.sql.functions import *\n",
    "\n",
    "training = training.withColumn(\"ucd_short\", regexp_replace('ucd', '\\\\d+', ''))\n"
   ]
  },
  {
   "cell_type": "code",
   "execution_count": 8,
   "metadata": {},
   "outputs": [
    {
     "name": "stdout",
     "output_type": "stream",
     "text": [
      "+----+---------+---+---+--------------+--------------------+---------+\n",
      "| ucd|education|sex|age|marital_status|hispanic_race_recode|ucd_short|\n",
      "+----+---------+---+---+--------------+--------------------+---------+\n",
      "| F03|       14|  F| 94|             W|                   6|        F|\n",
      "|J449|       12|  F| 70|             M|                   6|        J|\n",
      "|I219|       16|  M| 88|             M|                   6|        I|\n",
      "|C259|       12|  M| 77|             M|                   6|        C|\n",
      "|F102|       12|  F| 46|             D|                   1|        F|\n",
      "+----+---------+---+---+--------------+--------------------+---------+\n",
      "only showing top 5 rows\n",
      "\n"
     ]
    }
   ],
   "source": [
    "training.show(5)"
   ]
  },
  {
   "cell_type": "code",
   "execution_count": 9,
   "metadata": {},
   "outputs": [],
   "source": [
    "# replace age coding values: \n",
    "\n",
    "def replace(column, value):\n",
    "    return when(column != value, column)\n",
    "\n",
    "training = training.withColumn(\"age\", replace(col(\"age\"), 999)) # change age value coded as unknown (999) to null"
   ]
  },
  {
   "cell_type": "code",
   "execution_count": 10,
   "metadata": {},
   "outputs": [
    {
     "data": {
      "text/plain": [
       "0"
      ]
     },
     "execution_count": 10,
     "metadata": {},
     "output_type": "execute_result"
    }
   ],
   "source": [
    "training.filter(training.age == 999).count() # yes - 999 codes have been replaced "
   ]
  },
  {
   "cell_type": "code",
   "execution_count": 11,
   "metadata": {},
   "outputs": [
    {
     "name": "stdout",
     "output_type": "stream",
     "text": [
      "+---------+------+\n",
      "|ucd_short| count|\n",
      "+---------+------+\n",
      "|        I|674836|\n",
      "|        C|477413|\n",
      "|        J|216611|\n",
      "|        G|159912|\n",
      "|        F|111510|\n",
      "+---------+------+\n",
      "only showing top 5 rows\n",
      "\n"
     ]
    }
   ],
   "source": [
    "training.groupby(\"ucd_short\").count().orderBy('count', ascending=False).show(5) # top 5 causes of death with counts"
   ]
  },
  {
   "cell_type": "code",
   "execution_count": 12,
   "metadata": {},
   "outputs": [
    {
     "name": "stdout",
     "output_type": "stream",
     "text": [
      "+---+---------+---+---+--------------+--------------------+---------+\n",
      "|ucd|education|sex|age|marital_status|hispanic_race_recode|ucd_short|\n",
      "+---+---------+---+---+--------------+--------------------+---------+\n",
      "|  0|    54142|  0|382|         16592|                7871|        0|\n",
      "+---+---------+---+---+--------------+--------------------+---------+\n",
      "\n"
     ]
    }
   ],
   "source": [
    "training.select([count(when(col(c).isNull(), c)).alias(c) for c in training.columns]).show() # rows with null values in each column"
   ]
  },
  {
   "cell_type": "code",
   "execution_count": 13,
   "metadata": {},
   "outputs": [
    {
     "data": {
      "text/plain": [
       "2200579"
      ]
     },
     "execution_count": 13,
     "metadata": {},
     "output_type": "execute_result"
    }
   ],
   "source": [
    "training.count() # rows in training set"
   ]
  },
  {
   "cell_type": "code",
   "execution_count": 14,
   "metadata": {},
   "outputs": [],
   "source": [
    "# drop rows with null or nans\n",
    "training = training.na.drop()"
   ]
  },
  {
   "cell_type": "code",
   "execution_count": 15,
   "metadata": {},
   "outputs": [
    {
     "data": {
      "text/plain": [
       "2136639"
      ]
     },
     "execution_count": 15,
     "metadata": {},
     "output_type": "execute_result"
    }
   ],
   "source": [
    "training.count()"
   ]
  },
  {
   "cell_type": "code",
   "execution_count": 16,
   "metadata": {},
   "outputs": [
    {
     "data": {
      "text/plain": [
       "2.9055989355528666"
      ]
     },
     "execution_count": 16,
     "metadata": {},
     "output_type": "execute_result"
    }
   ],
   "source": [
    "(1 - (2136639/2200579))*100 # dropped 2.9% of dataset because of null values"
   ]
  },
  {
   "cell_type": "markdown",
   "metadata": {},
   "source": [
    "#### Clean and parse data"
   ]
  },
  {
   "cell_type": "code",
   "execution_count": 17,
   "metadata": {},
   "outputs": [],
   "source": [
    "from pyspark.ml.linalg import Vectors\n",
    "from pyspark.ml.feature import VectorAssembler\n",
    "from pyspark.ml.feature import OneHotEncoder, StringIndexer\n",
    "from pyspark.ml.feature import OneHotEncoderEstimator\n",
    "from pyspark.ml import Pipeline"
   ]
  },
  {
   "cell_type": "code",
   "execution_count": 18,
   "metadata": {},
   "outputs": [],
   "source": [
    "# StringIndexer transformers to encode categorical features as numerical for vector assembly.\n",
    "# Can't make this work with multiple columns but docs say it's possible.  spark 3.0 difference?\n",
    "\n",
    "indexer1 = StringIndexer(inputCol=\"marital_status\", outputCol=\"marital_status_index\")\n",
    "indexer2 = StringIndexer(inputCol=\"sex\", outputCol=\"sex_index\")\n",
    "indexer3 = StringIndexer(inputCol='ucd_short', outputCol='ucd_short_c')\n",
    "\n",
    "indexed1 = indexer1.fit(training).transform(training)\n",
    "indexed2 = indexer2.fit(indexed1).transform(indexed1)\n",
    "indexed = indexer3.fit(indexed2).transform(indexed2)"
   ]
  },
  {
   "cell_type": "code",
   "execution_count": 19,
   "metadata": {},
   "outputs": [
    {
     "name": "stdout",
     "output_type": "stream",
     "text": [
      "+----+---------+---+---+--------------+--------------------+---------+--------------------+---------+-----------+\n",
      "| ucd|education|sex|age|marital_status|hispanic_race_recode|ucd_short|marital_status_index|sex_index|ucd_short_c|\n",
      "+----+---------+---+---+--------------+--------------------+---------+--------------------+---------+-----------+\n",
      "| F03|       14|  F| 94|             W|                   6|        F|                 1.0|      1.0|        4.0|\n",
      "|J449|       12|  F| 70|             M|                   6|        J|                 0.0|      1.0|        2.0|\n",
      "|I219|       16|  M| 88|             M|                   6|        I|                 0.0|      0.0|        0.0|\n",
      "|C259|       12|  M| 77|             M|                   6|        C|                 0.0|      0.0|        1.0|\n",
      "|F102|       12|  F| 46|             D|                   1|        F|                 2.0|      1.0|        4.0|\n",
      "|G309|       12|  M| 80|             M|                   6|        G|                 0.0|      0.0|        3.0|\n",
      "|I499|       16|  M| 77|             S|                   6|        I|                 3.0|      0.0|        0.0|\n",
      "|C719|       12|  F| 51|             D|                   6|        C|                 2.0|      1.0|        1.0|\n",
      "| C61|       12|  M| 97|             W|                   6|        C|                 1.0|      0.0|        1.0|\n",
      "|C189|       12|  M| 64|             M|                   7|        C|                 0.0|      0.0|        1.0|\n",
      "+----+---------+---+---+--------------+--------------------+---------+--------------------+---------+-----------+\n",
      "only showing top 10 rows\n",
      "\n"
     ]
    }
   ],
   "source": [
    "indexed.show(10)"
   ]
  },
  {
   "cell_type": "code",
   "execution_count": 20,
   "metadata": {},
   "outputs": [
    {
     "name": "stdout",
     "output_type": "stream",
     "text": [
      "+----+---------+---+---+--------------+--------------------+---------+--------------------+---------+-----------+------------------------+---------------+------------------+\n",
      "| ucd|education|sex|age|marital_status|hispanic_race_recode|ucd_short|marital_status_index|sex_index|ucd_short_c|cat_hispanic_race_recode|  cat_education|cat_marital_status|\n",
      "+----+---------+---+---+--------------+--------------------+---------+--------------------+---------+-----------+------------------------+---------------+------------------+\n",
      "| F03|       14|  F| 94|             W|                   6|        F|                 1.0|      1.0|        4.0|           (8,[6],[1.0])|(17,[14],[1.0])|     (3,[1],[1.0])|\n",
      "|J449|       12|  F| 70|             M|                   6|        J|                 0.0|      1.0|        2.0|           (8,[6],[1.0])|(17,[12],[1.0])|     (3,[0],[1.0])|\n",
      "+----+---------+---+---+--------------+--------------------+---------+--------------------+---------+-----------+------------------------+---------------+------------------+\n",
      "only showing top 2 rows\n",
      "\n"
     ]
    }
   ],
   "source": [
    "# OneHotEncoder transformer to prepare categorical features for model\n",
    "encoder = OneHotEncoderEstimator(inputCols =[\"hispanic_race_recode\", \"education\", \"marital_status_index\"],\n",
    "                                 outputCols = [\"cat_hispanic_race_recode\", \"cat_education\", \"cat_marital_status\"])\n",
    "\n",
    "\n",
    "model = encoder.fit(indexed)\n",
    "encoded = model.transform(indexed)\n",
    "encoded.show(2)"
   ]
  },
  {
   "cell_type": "code",
   "execution_count": 21,
   "metadata": {},
   "outputs": [],
   "source": [
    "# VectorAssembler to package the features for model\n",
    "assembler = VectorAssembler(inputCols=[\"cat_hispanic_race_recode\", \"cat_education\", \"cat_marital_status\", \"sex_index\", \"age\"],\n",
    "                            outputCol=\"features\")\n",
    "output = assembler.transform(encoded)"
   ]
  },
  {
   "cell_type": "code",
   "execution_count": 22,
   "metadata": {},
   "outputs": [
    {
     "name": "stdout",
     "output_type": "stream",
     "text": [
      "+----+---------+---+---+--------------+--------------------+---------+--------------------+---------+-----------+------------------------+---------------+------------------+-------------------------------------------+\n",
      "|ucd |education|sex|age|marital_status|hispanic_race_recode|ucd_short|marital_status_index|sex_index|ucd_short_c|cat_hispanic_race_recode|cat_education  |cat_marital_status|features                                   |\n",
      "+----+---------+---+---+--------------+--------------------+---------+--------------------+---------+-----------+------------------------+---------------+------------------+-------------------------------------------+\n",
      "|F03 |14       |F  |94 |W             |6                   |F        |1.0                 |1.0      |4.0        |(8,[6],[1.0])           |(17,[14],[1.0])|(3,[1],[1.0])     |(30,[6,22,26,28,29],[1.0,1.0,1.0,1.0,94.0])|\n",
      "|J449|12       |F  |70 |M             |6                   |J        |0.0                 |1.0      |2.0        |(8,[6],[1.0])           |(17,[12],[1.0])|(3,[0],[1.0])     |(30,[6,20,25,28,29],[1.0,1.0,1.0,1.0,70.0])|\n",
      "+----+---------+---+---+--------------+--------------------+---------+--------------------+---------+-----------+------------------------+---------------+------------------+-------------------------------------------+\n",
      "only showing top 2 rows\n",
      "\n"
     ]
    }
   ],
   "source": [
    "output.show(2, truncate=False)"
   ]
  },
  {
   "cell_type": "code",
   "execution_count": 23,
   "metadata": {},
   "outputs": [],
   "source": [
    "cleanup = output.select(\"ucd_short_c\", \"features\")"
   ]
  },
  {
   "cell_type": "code",
   "execution_count": 24,
   "metadata": {},
   "outputs": [
    {
     "name": "stdout",
     "output_type": "stream",
     "text": [
      "root\n",
      " |-- ucd_short_c: double (nullable = false)\n",
      " |-- features: vector (nullable = true)\n",
      "\n"
     ]
    }
   ],
   "source": [
    "cleanup.printSchema()"
   ]
  },
  {
   "cell_type": "code",
   "execution_count": 25,
   "metadata": {},
   "outputs": [],
   "source": [
    "train_set, holdout_set = cleanup.randomSplit(weights=[0.8, 0.2], seed=212) ## split into train set and validation set"
   ]
  },
  {
   "cell_type": "code",
   "execution_count": 26,
   "metadata": {},
   "outputs": [
    {
     "name": "stdout",
     "output_type": "stream",
     "text": [
      "+-----------+------+\n",
      "|ucd_short_c| count|\n",
      "+-----------+------+\n",
      "|       22.0|     2|\n",
      "|       21.0|    86|\n",
      "|       20.0|   683|\n",
      "|       19.0|  2984|\n",
      "|       18.0|  5854|\n",
      "|       17.0|  6378|\n",
      "|       16.0|  8518|\n",
      "|       15.0|  8538|\n",
      "|       14.0| 10116|\n",
      "|       13.0| 16721|\n",
      "|       12.0| 19937|\n",
      "|       11.0| 25585|\n",
      "|       10.0| 29744|\n",
      "|        9.0| 33183|\n",
      "|        8.0| 43350|\n",
      "|        7.0| 65422|\n",
      "|        6.0| 76683|\n",
      "|        5.0| 78816|\n",
      "|        4.0| 86255|\n",
      "|        3.0|125360|\n",
      "|        2.0|168294|\n",
      "|        1.0|372737|\n",
      "|        0.0|523331|\n",
      "+-----------+------+\n",
      "\n"
     ]
    }
   ],
   "source": [
    "train_set.groupby(\"ucd_short_c\").count().sort('count').show(23)"
   ]
  },
  {
   "cell_type": "code",
   "execution_count": 27,
   "metadata": {},
   "outputs": [],
   "source": [
    "# there are only 2 observations for group '22' and 86 for group '21' - filter out for now \n",
    "\n",
    "train_set = train_set.filter(train_set.ucd_short_c != 22)\n",
    "train_set = train_set.filter(train_set.ucd_short_c != 21)"
   ]
  },
  {
   "cell_type": "code",
   "execution_count": 28,
   "metadata": {},
   "outputs": [
    {
     "name": "stdout",
     "output_type": "stream",
     "text": [
      "+-----------+------+\n",
      "|ucd_short_c| count|\n",
      "+-----------+------+\n",
      "|       20.0|   683|\n",
      "|       19.0|  2984|\n",
      "|       18.0|  5854|\n",
      "|       17.0|  6378|\n",
      "|       16.0|  8518|\n",
      "|       15.0|  8538|\n",
      "|       14.0| 10116|\n",
      "|       13.0| 16721|\n",
      "|       12.0| 19937|\n",
      "|       11.0| 25585|\n",
      "|       10.0| 29744|\n",
      "|        9.0| 33183|\n",
      "|        8.0| 43350|\n",
      "|        7.0| 65422|\n",
      "|        6.0| 76683|\n",
      "|        5.0| 78816|\n",
      "|        4.0| 86255|\n",
      "|        3.0|125360|\n",
      "|        2.0|168294|\n",
      "|        1.0|372737|\n",
      "|        0.0|523331|\n",
      "+-----------+------+\n",
      "\n"
     ]
    }
   ],
   "source": [
    "train_set.groupby(\"ucd_short_c\").count().sort('count').show(21)"
   ]
  },
  {
   "cell_type": "code",
   "execution_count": 29,
   "metadata": {},
   "outputs": [
    {
     "data": {
      "text/plain": [
       "21"
      ]
     },
     "execution_count": 29,
     "metadata": {},
     "output_type": "execute_result"
    }
   ],
   "source": [
    "train_set.select('ucd_short_c').distinct().count()"
   ]
  },
  {
   "cell_type": "markdown",
   "metadata": {},
   "source": [
    "There are now 21 different outcomes for UCD. "
   ]
  },
  {
   "cell_type": "markdown",
   "metadata": {},
   "source": [
    "#### Balance training data with downsampling"
   ]
  },
  {
   "cell_type": "code",
   "execution_count": 30,
   "metadata": {},
   "outputs": [],
   "source": [
    "# write function to do downsampling\n",
    "\n",
    "def downSample(df, target, seed):\n",
    "    \n",
    "    # gather counts of each class \n",
    "    class_counts = df.groupby(target).count()\n",
    "\n",
    "    # select smallest count size and corresponding class\n",
    "    smallest_class_size = class_counts.agg({'count': 'min'})\n",
    "    smallest_class_size = smallest_class_size.collect()[0]['min(count)']\n",
    "\n",
    "    # generate ratio of each class to smallest class - for use with .sample()\n",
    "    class_counts = class_counts.withColumn('min', lit(smallest_class_size))\n",
    "    class_counts = class_counts.withColumn('ratio', class_counts['min']/ class_counts['count'])\n",
    "\n",
    "    smallest_class = class_counts.filter(class_counts['count'] == class_counts['min']).collect()[0][target]\n",
    "    \n",
    "    # set up final dataframe to hold results - with only the smallest class to start\n",
    "    adjusted_df = df.filter(df[target] == smallest_class)\n",
    "\n",
    "    # iterate over outcome classes, sampling to match count of smallest class\n",
    "    for i in range(class_counts.count()):\n",
    "\n",
    "        outcome_class = class_counts.collect()[i][target]\n",
    "        ratio = class_counts.collect()[i]['ratio']\n",
    "\n",
    "        if outcome_class != smallest_class: \n",
    "\n",
    "            subset = df.filter(df[target] == outcome_class)\n",
    "            subset_adjusted = subset.sample(False, ratio, seed = seed)\n",
    "\n",
    "            adjusted_df = adjusted_df.unionAll(subset_adjusted)\n",
    "            \n",
    "        else:\n",
    "            adjusted_df = adjusted_df\n",
    "\n",
    "    return adjusted_df"
   ]
  },
  {
   "cell_type": "code",
   "execution_count": 31,
   "metadata": {},
   "outputs": [
    {
     "name": "stdout",
     "output_type": "stream",
     "text": [
      "+-----------+-----+\n",
      "|ucd_short_c|count|\n",
      "+-----------+-----+\n",
      "|        1.0|  658|\n",
      "|        0.0|  665|\n",
      "|       20.0|  683|\n",
      "|        2.0|  684|\n",
      "|       17.0|  698|\n",
      "|       12.0|  700|\n",
      "|        3.0|  704|\n",
      "|       18.0|  706|\n",
      "|       19.0|  706|\n",
      "|       13.0|  706|\n",
      "|       11.0|  713|\n",
      "|       14.0|  717|\n",
      "|       16.0|  719|\n",
      "|       15.0|  720|\n",
      "|        9.0|  729|\n",
      "|       10.0|  734|\n",
      "|        7.0|  736|\n",
      "|        8.0|  739|\n",
      "|        4.0|  743|\n",
      "|        6.0|  746|\n",
      "|        5.0|  747|\n",
      "+-----------+-----+\n",
      "\n"
     ]
    }
   ],
   "source": [
    "adj_train = downSample(df = train_set, target = 'ucd_short_c', seed = 4)\n",
    "adj_train.groupby(\"ucd_short_c\").count().sort('count').show(21)"
   ]
  },
  {
   "cell_type": "markdown",
   "metadata": {},
   "source": [
    "### Modeling"
   ]
  },
  {
   "cell_type": "markdown",
   "metadata": {},
   "source": [
    "https://spark.apache.org/docs/2.4.7/ml-classification-regression.html"
   ]
  },
  {
   "cell_type": "markdown",
   "metadata": {},
   "source": [
    "#### Decision Tree Model"
   ]
  },
  {
   "cell_type": "code",
   "execution_count": 32,
   "metadata": {},
   "outputs": [],
   "source": [
    "from pyspark.ml.classification import DecisionTreeClassifier\n",
    "\n",
    "dt = DecisionTreeClassifier(labelCol=\"ucd_short_c\", featuresCol=\"features\")"
   ]
  },
  {
   "cell_type": "code",
   "execution_count": 33,
   "metadata": {},
   "outputs": [],
   "source": [
    "# dt_model = dt.fit(train_set)\n",
    "dt_model = dt.fit(adj_train)"
   ]
  },
  {
   "cell_type": "code",
   "execution_count": 34,
   "metadata": {},
   "outputs": [],
   "source": [
    "# train_output = dt_model.transform(train_set)\n",
    "train_output = dt_model.transform(adj_train)"
   ]
  },
  {
   "cell_type": "code",
   "execution_count": 35,
   "metadata": {},
   "outputs": [],
   "source": [
    "# train_output.show(10)"
   ]
  },
  {
   "cell_type": "code",
   "execution_count": 36,
   "metadata": {},
   "outputs": [],
   "source": [
    "# Model summary\n",
    "\n",
    "from pyspark.ml.evaluation import MulticlassClassificationEvaluator\n",
    "\n",
    "evaluator = MulticlassClassificationEvaluator(\n",
    "    labelCol=\"ucd_short_c\", predictionCol=\"prediction\", metricName=\"accuracy\")\n",
    "\n",
    "accuracy = evaluator.evaluate(train_output)"
   ]
  },
  {
   "cell_type": "code",
   "execution_count": 37,
   "metadata": {},
   "outputs": [
    {
     "name": "stdout",
     "output_type": "stream",
     "text": [
      "Accuracy: 19.454290109008227%\n",
      "Test Error: 80.54570989099177%\n"
     ]
    }
   ],
   "source": [
    "print('Accuracy: ' + str(accuracy*100) + '%')\n",
    "print('Test Error: ' + str((1.0 - accuracy)*100) + '%')"
   ]
  },
  {
   "cell_type": "code",
   "execution_count": 38,
   "metadata": {},
   "outputs": [
    {
     "name": "stdout",
     "output_type": "stream",
     "text": [
      "DecisionTreeClassificationModel (uid=DecisionTreeClassifier_5995b234550c) of depth 5 with 45 nodes\n"
     ]
    }
   ],
   "source": [
    "print(dt_model)"
   ]
  },
  {
   "cell_type": "code",
   "execution_count": 39,
   "metadata": {},
   "outputs": [],
   "source": [
    "# train_output.groupby(\"prediction\").count().show()"
   ]
  },
  {
   "cell_type": "code",
   "execution_count": 40,
   "metadata": {},
   "outputs": [
    {
     "data": {
      "text/plain": [
       "428062"
      ]
     },
     "execution_count": 40,
     "metadata": {},
     "output_type": "execute_result"
    }
   ],
   "source": [
    "predictions = dt_model.transform(holdout_set)\n",
    "# predictions.show(10)\n",
    "predictions.count()"
   ]
  },
  {
   "cell_type": "code",
   "execution_count": 41,
   "metadata": {},
   "outputs": [
    {
     "name": "stdout",
     "output_type": "stream",
     "text": [
      "+----------+------+\n",
      "|prediction| count|\n",
      "+----------+------+\n",
      "|       7.0|   524|\n",
      "|      11.0|   773|\n",
      "|      18.0|  3779|\n",
      "|      17.0|  5882|\n",
      "|      20.0| 18047|\n",
      "|       5.0| 30901|\n",
      "|      16.0| 34058|\n",
      "|       1.0| 45158|\n",
      "|      14.0| 52984|\n",
      "|       8.0| 62618|\n",
      "|       2.0| 62772|\n",
      "|       4.0|110566|\n",
      "+----------+------+\n",
      "\n"
     ]
    }
   ],
   "source": [
    "predictions.groupby(\"prediction\").count().sort('count').show()"
   ]
  },
  {
   "cell_type": "markdown",
   "metadata": {},
   "source": [
    "##### False-Positive and True-Positive Rates:"
   ]
  },
  {
   "cell_type": "code",
   "execution_count": 42,
   "metadata": {},
   "outputs": [],
   "source": [
    "correct_pred = predictions.filter(predictions['ucd_short_c'] == predictions['prediction'])\n",
    "incorrect_pred = predictions.filter(predictions['ucd_short_c'] != predictions['prediction'])"
   ]
  },
  {
   "cell_type": "code",
   "execution_count": 43,
   "metadata": {},
   "outputs": [],
   "source": [
    "tpr = (correct_pred.count()) / (predictions.count())\n",
    "fpr = (incorrect_pred.count()) / (predictions.count())"
   ]
  },
  {
   "cell_type": "code",
   "execution_count": 44,
   "metadata": {},
   "outputs": [
    {
     "name": "stdout",
     "output_type": "stream",
     "text": [
      "True positive rate: 11.235%\n",
      "False positive rate: 88.765%\n"
     ]
    }
   ],
   "source": [
    "from builtins import round\n",
    "print('True positive rate: ' + str(round((tpr*100), 3)) + '%')\n",
    "print('False positive rate: ' + str(round((fpr*100), 3)) + '%')"
   ]
  },
  {
   "cell_type": "markdown",
   "metadata": {},
   "source": [
    "#### Random Forest Model"
   ]
  },
  {
   "cell_type": "code",
   "execution_count": 45,
   "metadata": {},
   "outputs": [],
   "source": [
    "from pyspark.ml.classification import RandomForestClassifier\n",
    "\n",
    "rf = RandomForestClassifier(labelCol='ucd_short_c', featuresCol=\"features\", numTrees=500)"
   ]
  },
  {
   "cell_type": "code",
   "execution_count": 46,
   "metadata": {},
   "outputs": [],
   "source": [
    "# rf_model = rf.fit(train_set)\n",
    "rf_model = rf.fit(adj_train)"
   ]
  },
  {
   "cell_type": "code",
   "execution_count": 47,
   "metadata": {},
   "outputs": [],
   "source": [
    "# train_output = rf_model.transform(train_set)\n",
    "train_output = rf_model.transform(adj_train)"
   ]
  },
  {
   "cell_type": "code",
   "execution_count": 48,
   "metadata": {},
   "outputs": [],
   "source": [
    "# Model summary\n",
    "\n",
    "from pyspark.ml.evaluation import MulticlassClassificationEvaluator\n",
    "\n",
    "evaluator = MulticlassClassificationEvaluator(\n",
    "    labelCol=\"ucd_short_c\", predictionCol=\"prediction\", metricName=\"accuracy\")\n",
    "\n",
    "accuracy = evaluator.evaluate(train_output)"
   ]
  },
  {
   "cell_type": "code",
   "execution_count": 49,
   "metadata": {},
   "outputs": [
    {
     "name": "stdout",
     "output_type": "stream",
     "text": [
      "Accuracy: 19.88898548786197%\n",
      "Test Error: 80.11101451213804%\n"
     ]
    }
   ],
   "source": [
    "print('Accuracy: ' + str(accuracy*100) + '%')\n",
    "print('Test Error: ' + str((1.0 - accuracy)*100) + '%')"
   ]
  },
  {
   "cell_type": "code",
   "execution_count": 50,
   "metadata": {},
   "outputs": [
    {
     "name": "stdout",
     "output_type": "stream",
     "text": [
      "RandomForestClassificationModel (uid=RandomForestClassifier_111b87f80cfd) with 500 trees\n"
     ]
    }
   ],
   "source": [
    "print(rf_model)"
   ]
  },
  {
   "cell_type": "code",
   "execution_count": 51,
   "metadata": {},
   "outputs": [],
   "source": [
    "# train_output.groupby(\"prediction\").count().show()"
   ]
  },
  {
   "cell_type": "code",
   "execution_count": 52,
   "metadata": {},
   "outputs": [
    {
     "data": {
      "text/plain": [
       "428062"
      ]
     },
     "execution_count": 52,
     "metadata": {},
     "output_type": "execute_result"
    }
   ],
   "source": [
    "predictions = rf_model.transform(holdout_set)\n",
    "# predictions.show(10)\n",
    "predictions.count()"
   ]
  },
  {
   "cell_type": "code",
   "execution_count": 53,
   "metadata": {},
   "outputs": [
    {
     "name": "stdout",
     "output_type": "stream",
     "text": [
      "+----------+------+\n",
      "|prediction| count|\n",
      "+----------+------+\n",
      "|      12.0|   309|\n",
      "|       0.0|   524|\n",
      "|       9.0|  1426|\n",
      "|      19.0|  1564|\n",
      "|      13.0|  1682|\n",
      "|       3.0|  3543|\n",
      "|       6.0|  3804|\n",
      "|      11.0|  4759|\n",
      "|       2.0|  6933|\n",
      "|      18.0|  7103|\n",
      "|      17.0|  9618|\n",
      "|       8.0| 10965|\n",
      "|       7.0| 17138|\n",
      "|      10.0| 18286|\n",
      "|      20.0| 28775|\n",
      "|      16.0| 38783|\n",
      "|      14.0| 40857|\n",
      "|       5.0| 46991|\n",
      "|       1.0| 56673|\n",
      "|       4.0|128329|\n",
      "+----------+------+\n",
      "\n"
     ]
    }
   ],
   "source": [
    "predictions.groupby(\"prediction\").count().sort('count').show()"
   ]
  },
  {
   "cell_type": "markdown",
   "metadata": {},
   "source": [
    "##### False-Positive and True-Positive Rates:"
   ]
  },
  {
   "cell_type": "code",
   "execution_count": 54,
   "metadata": {},
   "outputs": [],
   "source": [
    "correct_pred = predictions.filter(predictions['ucd_short_c'] == predictions['prediction'])\n",
    "incorrect_pred = predictions.filter(predictions['ucd_short_c'] != predictions['prediction'])"
   ]
  },
  {
   "cell_type": "code",
   "execution_count": 55,
   "metadata": {},
   "outputs": [],
   "source": [
    "tpr = (correct_pred.count()) / (predictions.count())\n",
    "fpr = (incorrect_pred.count()) / (predictions.count())"
   ]
  },
  {
   "cell_type": "code",
   "execution_count": 56,
   "metadata": {},
   "outputs": [
    {
     "name": "stdout",
     "output_type": "stream",
     "text": [
      "True positive rate: 10.594%\n",
      "False positive rate: 89.406%\n"
     ]
    }
   ],
   "source": [
    "print('True positive rate: ' + str(round((tpr*100), 3)) + '%')\n",
    "print('False positive rate: ' + str(round((fpr*100), 3)) + '%')"
   ]
  },
  {
   "cell_type": "markdown",
   "metadata": {},
   "source": [
    "## Hold-out Testing Data "
   ]
  },
  {
   "cell_type": "code",
   "execution_count": 57,
   "metadata": {},
   "outputs": [
    {
     "data": {
      "text/plain": [
       "550650"
      ]
     },
     "execution_count": 57,
     "metadata": {},
     "output_type": "execute_result"
    }
   ],
   "source": [
    "# Read in train data\n",
    "test_data = spark.read.option(\"header\",True).option(\"inferSchema\",True).csv(\"test_data\")\n",
    "test_data.count()"
   ]
  },
  {
   "cell_type": "code",
   "execution_count": 58,
   "metadata": {},
   "outputs": [],
   "source": [
    "# subset with potential features\n",
    "testing = test_data.select(\"ucd\", \"education\", \"sex\", \"age\", \"marital_status\", \"hispanic_race_recode\")"
   ]
  },
  {
   "cell_type": "code",
   "execution_count": 59,
   "metadata": {},
   "outputs": [
    {
     "name": "stdout",
     "output_type": "stream",
     "text": [
      "root\n",
      " |-- ucd: string (nullable = true)\n",
      " |-- education: integer (nullable = true)\n",
      " |-- sex: string (nullable = true)\n",
      " |-- age: integer (nullable = true)\n",
      " |-- marital_status: string (nullable = true)\n",
      " |-- hispanic_race_recode: integer (nullable = true)\n",
      "\n"
     ]
    }
   ],
   "source": [
    "testing.printSchema()"
   ]
  },
  {
   "cell_type": "code",
   "execution_count": 60,
   "metadata": {},
   "outputs": [],
   "source": [
    "# strip UCD codes to include first letter only\n",
    "from pyspark.sql.functions import *\n",
    "\n",
    "testing = testing.withColumn(\"ucd_short\", regexp_replace('ucd', '\\\\d+', ''))"
   ]
  },
  {
   "cell_type": "code",
   "execution_count": 61,
   "metadata": {},
   "outputs": [
    {
     "name": "stdout",
     "output_type": "stream",
     "text": [
      "+----+---------+---+---+--------------+--------------------+---------+\n",
      "| ucd|education|sex|age|marital_status|hispanic_race_recode|ucd_short|\n",
      "+----+---------+---+---+--------------+--------------------+---------+\n",
      "| C61|        1|  M| 82|             M|                   7|        C|\n",
      "|E142|        1|  F| 74|             M|                   1|        E|\n",
      "|I429|        2|  M| 70|             S|                   8|        I|\n",
      "|C349|        3|  M| 89|             W|                   6|        C|\n",
      "|I119|        3|  M| 67|             S|                   7|        I|\n",
      "+----+---------+---+---+--------------+--------------------+---------+\n",
      "only showing top 5 rows\n",
      "\n"
     ]
    }
   ],
   "source": [
    "testing.show(5)"
   ]
  },
  {
   "cell_type": "code",
   "execution_count": 62,
   "metadata": {},
   "outputs": [],
   "source": [
    "# replace age coding values: \n",
    "\n",
    "def replace(column, value):\n",
    "    return when(column != value, column)\n",
    "\n",
    "testing = testing.withColumn(\"age\", replace(col(\"age\"), 999)) # change age value coded as unknown (999) to null"
   ]
  },
  {
   "cell_type": "code",
   "execution_count": 63,
   "metadata": {},
   "outputs": [
    {
     "data": {
      "text/plain": [
       "0"
      ]
     },
     "execution_count": 63,
     "metadata": {},
     "output_type": "execute_result"
    }
   ],
   "source": [
    "testing.filter(testing.age == 999).count() # yes - 999 codes have been replaced "
   ]
  },
  {
   "cell_type": "code",
   "execution_count": 64,
   "metadata": {},
   "outputs": [
    {
     "name": "stdout",
     "output_type": "stream",
     "text": [
      "+---------+------+\n",
      "|ucd_short| count|\n",
      "+---------+------+\n",
      "|        I|168944|\n",
      "|        C|119737|\n",
      "|        J| 54616|\n",
      "|        G| 39785|\n",
      "|        F| 27609|\n",
      "+---------+------+\n",
      "only showing top 5 rows\n",
      "\n"
     ]
    }
   ],
   "source": [
    "testing.groupby(\"ucd_short\").count().orderBy('count', ascending=False).show(5) # top 5 causes of death with counts"
   ]
  },
  {
   "cell_type": "code",
   "execution_count": 65,
   "metadata": {},
   "outputs": [
    {
     "name": "stdout",
     "output_type": "stream",
     "text": [
      "+---+---------+---+---+--------------+--------------------+---------+\n",
      "|ucd|education|sex|age|marital_status|hispanic_race_recode|ucd_short|\n",
      "+---+---------+---+---+--------------+--------------------+---------+\n",
      "|  0|    13521|  0|102|          4215|                1942|        0|\n",
      "+---+---------+---+---+--------------+--------------------+---------+\n",
      "\n"
     ]
    }
   ],
   "source": [
    "testing.select([count(when(col(c).isNull(), c)).alias(c) for c in testing.columns]).show() # rows with null values in each column"
   ]
  },
  {
   "cell_type": "code",
   "execution_count": 66,
   "metadata": {},
   "outputs": [
    {
     "data": {
      "text/plain": [
       "550650"
      ]
     },
     "execution_count": 66,
     "metadata": {},
     "output_type": "execute_result"
    }
   ],
   "source": [
    "testing.count() # rows in training set"
   ]
  },
  {
   "cell_type": "code",
   "execution_count": 67,
   "metadata": {},
   "outputs": [],
   "source": [
    "# drop rows with null or nans\n",
    "testing = testing.na.drop()"
   ]
  },
  {
   "cell_type": "code",
   "execution_count": 68,
   "metadata": {},
   "outputs": [
    {
     "data": {
      "text/plain": [
       "534741"
      ]
     },
     "execution_count": 68,
     "metadata": {},
     "output_type": "execute_result"
    }
   ],
   "source": [
    "testing.count()"
   ]
  },
  {
   "cell_type": "code",
   "execution_count": 69,
   "metadata": {},
   "outputs": [
    {
     "data": {
      "text/plain": [
       "2.889131026968128"
      ]
     },
     "execution_count": 69,
     "metadata": {},
     "output_type": "execute_result"
    }
   ],
   "source": [
    "(1 - (534741/550650))*100 # dropped 2.9% of testing dataset because of null values"
   ]
  },
  {
   "cell_type": "markdown",
   "metadata": {},
   "source": [
    "#### Clean and parse data"
   ]
  },
  {
   "cell_type": "code",
   "execution_count": 70,
   "metadata": {},
   "outputs": [],
   "source": [
    "# StringIndexer transformers to encode categorical features as numerical for vector assembly.\n",
    "# Can't make this work with multiple columns but docs say it's possible.  spark 3.0 difference?\n",
    "\n",
    "indexer1 = StringIndexer(inputCol=\"marital_status\", outputCol=\"marital_status_index\")\n",
    "indexer2 = StringIndexer(inputCol=\"sex\", outputCol=\"sex_index\")\n",
    "indexer3 = StringIndexer(inputCol='ucd_short', outputCol='ucd_short_c')\n",
    "\n",
    "indexed1 = indexer1.fit(testing).transform(testing)\n",
    "indexed2 = indexer2.fit(indexed1).transform(indexed1)\n",
    "indexed = indexer3.fit(indexed2).transform(indexed2)"
   ]
  },
  {
   "cell_type": "code",
   "execution_count": 71,
   "metadata": {},
   "outputs": [
    {
     "name": "stdout",
     "output_type": "stream",
     "text": [
      "+----+---------+---+---+--------------+--------------------+---------+--------------------+---------+-----------+\n",
      "| ucd|education|sex|age|marital_status|hispanic_race_recode|ucd_short|marital_status_index|sex_index|ucd_short_c|\n",
      "+----+---------+---+---+--------------+--------------------+---------+--------------------+---------+-----------+\n",
      "| C61|        1|  M| 82|             M|                   7|        C|                 0.0|      0.0|        1.0|\n",
      "|E142|        1|  F| 74|             M|                   1|        E|                 0.0|      1.0|        6.0|\n",
      "|I429|        2|  M| 70|             S|                   8|        I|                 3.0|      0.0|        0.0|\n",
      "|C349|        3|  M| 89|             W|                   6|        C|                 1.0|      0.0|        1.0|\n",
      "|I119|        3|  M| 67|             S|                   7|        I|                 3.0|      0.0|        0.0|\n",
      "|J841|        3|  M| 87|             M|                   6|        J|                 0.0|      0.0|        2.0|\n",
      "|I422|        4|  F| 66|             M|                   1|        I|                 0.0|      1.0|        0.0|\n",
      "|J841|        6|  M| 82|             M|                   6|        J|                 0.0|      0.0|        2.0|\n",
      "| I64|        6|  F| 88|             W|                   6|        I|                 1.0|      1.0|        0.0|\n",
      "|I350|        6|  M| 93|             M|                   6|        I|                 0.0|      0.0|        0.0|\n",
      "+----+---------+---+---+--------------+--------------------+---------+--------------------+---------+-----------+\n",
      "only showing top 10 rows\n",
      "\n"
     ]
    }
   ],
   "source": [
    "indexed.show(10)"
   ]
  },
  {
   "cell_type": "code",
   "execution_count": 72,
   "metadata": {},
   "outputs": [
    {
     "name": "stdout",
     "output_type": "stream",
     "text": [
      "+----+---------+---+---+--------------+--------------------+---------+--------------------+---------+-----------+------------------------+--------------+------------------+\n",
      "| ucd|education|sex|age|marital_status|hispanic_race_recode|ucd_short|marital_status_index|sex_index|ucd_short_c|cat_hispanic_race_recode| cat_education|cat_marital_status|\n",
      "+----+---------+---+---+--------------+--------------------+---------+--------------------+---------+-----------+------------------------+--------------+------------------+\n",
      "| C61|        1|  M| 82|             M|                   7|        C|                 0.0|      0.0|        1.0|           (8,[7],[1.0])|(17,[1],[1.0])|     (3,[0],[1.0])|\n",
      "|E142|        1|  F| 74|             M|                   1|        E|                 0.0|      1.0|        6.0|           (8,[1],[1.0])|(17,[1],[1.0])|     (3,[0],[1.0])|\n",
      "+----+---------+---+---+--------------+--------------------+---------+--------------------+---------+-----------+------------------------+--------------+------------------+\n",
      "only showing top 2 rows\n",
      "\n"
     ]
    }
   ],
   "source": [
    "# OneHotEncoder transformer to prepare categorical features for model\n",
    "encoder = OneHotEncoderEstimator(inputCols =[\"hispanic_race_recode\", \"education\", \"marital_status_index\"],\n",
    "                                 outputCols = [\"cat_hispanic_race_recode\", \"cat_education\", \"cat_marital_status\"])\n",
    "\n",
    "\n",
    "model = encoder.fit(indexed)\n",
    "encoded = model.transform(indexed)\n",
    "encoded.show(2)"
   ]
  },
  {
   "cell_type": "code",
   "execution_count": 73,
   "metadata": {},
   "outputs": [],
   "source": [
    "# VectorAssembler to package the features for model\n",
    "assembler = VectorAssembler(inputCols=[\"cat_hispanic_race_recode\", \"cat_education\", \"cat_marital_status\", \"sex_index\", \"age\"],\n",
    "                            outputCol=\"features\")\n",
    "output = assembler.transform(encoded)"
   ]
  },
  {
   "cell_type": "code",
   "execution_count": 74,
   "metadata": {},
   "outputs": [
    {
     "name": "stdout",
     "output_type": "stream",
     "text": [
      "+----+---------+---+---+--------------+--------------------+---------+--------------------+---------+-----------+------------------------+--------------+------------------+------------------------------------------+\n",
      "|ucd |education|sex|age|marital_status|hispanic_race_recode|ucd_short|marital_status_index|sex_index|ucd_short_c|cat_hispanic_race_recode|cat_education |cat_marital_status|features                                  |\n",
      "+----+---------+---+---+--------------+--------------------+---------+--------------------+---------+-----------+------------------------+--------------+------------------+------------------------------------------+\n",
      "|C61 |1        |M  |82 |M             |7                   |C        |0.0                 |0.0      |1.0        |(8,[7],[1.0])           |(17,[1],[1.0])|(3,[0],[1.0])     |(30,[7,9,25,29],[1.0,1.0,1.0,82.0])       |\n",
      "|E142|1        |F  |74 |M             |1                   |E        |0.0                 |1.0      |6.0        |(8,[1],[1.0])           |(17,[1],[1.0])|(3,[0],[1.0])     |(30,[1,9,25,28,29],[1.0,1.0,1.0,1.0,74.0])|\n",
      "+----+---------+---+---+--------------+--------------------+---------+--------------------+---------+-----------+------------------------+--------------+------------------+------------------------------------------+\n",
      "only showing top 2 rows\n",
      "\n"
     ]
    }
   ],
   "source": [
    "output.show(2, truncate=False)"
   ]
  },
  {
   "cell_type": "code",
   "execution_count": 75,
   "metadata": {},
   "outputs": [],
   "source": [
    "cleanup = output.select(\"ucd_short_c\", \"features\")"
   ]
  },
  {
   "cell_type": "code",
   "execution_count": 76,
   "metadata": {},
   "outputs": [
    {
     "name": "stdout",
     "output_type": "stream",
     "text": [
      "root\n",
      " |-- ucd_short_c: double (nullable = false)\n",
      " |-- features: vector (nullable = true)\n",
      "\n"
     ]
    }
   ],
   "source": [
    "cleanup.printSchema()"
   ]
  },
  {
   "cell_type": "code",
   "execution_count": 77,
   "metadata": {},
   "outputs": [
    {
     "name": "stdout",
     "output_type": "stream",
     "text": [
      "+-----------+------+\n",
      "|ucd_short_c| count|\n",
      "+-----------+------+\n",
      "|       21.0|    21|\n",
      "|       20.0|   209|\n",
      "|       19.0|   951|\n",
      "|       18.0|  1745|\n",
      "|       17.0|  1990|\n",
      "|       16.0|  2649|\n",
      "|       15.0|  2729|\n",
      "|       14.0|  3139|\n",
      "|       13.0|  5207|\n",
      "|       12.0|  6281|\n",
      "|       11.0|  8049|\n",
      "|       10.0|  9225|\n",
      "|        9.0| 10509|\n",
      "|        8.0| 13731|\n",
      "|        7.0| 20263|\n",
      "|        6.0| 23831|\n",
      "|        5.0| 24710|\n",
      "|        4.0| 26735|\n",
      "|        3.0| 39016|\n",
      "|        2.0| 53003|\n",
      "|        1.0|116913|\n",
      "|        0.0|163835|\n",
      "+-----------+------+\n",
      "\n"
     ]
    }
   ],
   "source": [
    "cleanup.groupby(\"ucd_short_c\").count().sort('count').show(23)"
   ]
  },
  {
   "cell_type": "markdown",
   "metadata": {},
   "source": [
    "#### If using downsampling function:"
   ]
  },
  {
   "cell_type": "code",
   "execution_count": 78,
   "metadata": {},
   "outputs": [
    {
     "name": "stdout",
     "output_type": "stream",
     "text": [
      "+-----------+------+\n",
      "|ucd_short_c| count|\n",
      "+-----------+------+\n",
      "|       20.0|   209|\n",
      "|       19.0|   951|\n",
      "|       18.0|  1745|\n",
      "|       17.0|  1990|\n",
      "|       16.0|  2649|\n",
      "|       15.0|  2729|\n",
      "|       14.0|  3139|\n",
      "|       13.0|  5207|\n",
      "|       12.0|  6281|\n",
      "|       11.0|  8049|\n",
      "|       10.0|  9225|\n",
      "|        9.0| 10509|\n",
      "|        8.0| 13731|\n",
      "|        7.0| 20263|\n",
      "|        6.0| 23831|\n",
      "|        5.0| 24710|\n",
      "|        4.0| 26735|\n",
      "|        3.0| 39016|\n",
      "|        2.0| 53003|\n",
      "|        1.0|116913|\n",
      "|        0.0|163835|\n",
      "+-----------+------+\n",
      "\n"
     ]
    }
   ],
   "source": [
    "# filter out groups '20' and '21'\n",
    "\n",
    "cleanup = cleanup.filter(cleanup.ucd_short_c != 22)\n",
    "cleanup = cleanup.filter(cleanup.ucd_short_c != 21)\n",
    "\n",
    "cleanup.groupby(\"ucd_short_c\").count().sort('count').show(21)"
   ]
  },
  {
   "cell_type": "markdown",
   "metadata": {},
   "source": [
    "### Modeling - Holdout Set"
   ]
  },
  {
   "cell_type": "markdown",
   "metadata": {},
   "source": [
    "https://spark.apache.org/docs/2.4.7/ml-classification-regression.html"
   ]
  },
  {
   "cell_type": "markdown",
   "metadata": {},
   "source": [
    "#### Decision Tree Model"
   ]
  },
  {
   "cell_type": "code",
   "execution_count": 79,
   "metadata": {},
   "outputs": [],
   "source": [
    "# train_output = dt_model.transform(train_set)\n",
    "holdout_preds = dt_model.transform(cleanup)"
   ]
  },
  {
   "cell_type": "code",
   "execution_count": 80,
   "metadata": {},
   "outputs": [],
   "source": [
    "evaluator = MulticlassClassificationEvaluator(\n",
    "    labelCol=\"ucd_short_c\", predictionCol=\"prediction\", metricName=\"accuracy\")\n",
    "\n",
    "accuracy = evaluator.evaluate(holdout_preds)"
   ]
  },
  {
   "cell_type": "code",
   "execution_count": 81,
   "metadata": {},
   "outputs": [
    {
     "name": "stdout",
     "output_type": "stream",
     "text": [
      "Accuracy: 11.165095751047277%\n",
      "Test Error: 88.83490424895272%\n"
     ]
    }
   ],
   "source": [
    "print('Accuracy: ' + str(accuracy*100) + '%')\n",
    "print('Test Error: ' + str((1.0 - accuracy)*100) + '%')"
   ]
  },
  {
   "cell_type": "code",
   "execution_count": 82,
   "metadata": {},
   "outputs": [
    {
     "data": {
      "text/plain": [
       "534720"
      ]
     },
     "execution_count": 82,
     "metadata": {},
     "output_type": "execute_result"
    }
   ],
   "source": [
    "holdout_preds.count()"
   ]
  },
  {
   "cell_type": "code",
   "execution_count": 83,
   "metadata": {},
   "outputs": [
    {
     "name": "stdout",
     "output_type": "stream",
     "text": [
      "+----------+------+\n",
      "|prediction| count|\n",
      "+----------+------+\n",
      "|       7.0|   605|\n",
      "|      11.0|   900|\n",
      "|      18.0|  4630|\n",
      "|      17.0|  7279|\n",
      "|      20.0| 22719|\n",
      "|       5.0| 38853|\n",
      "|      16.0| 42686|\n",
      "|       1.0| 56597|\n",
      "|      14.0| 66556|\n",
      "|       2.0| 77740|\n",
      "|       8.0| 78291|\n",
      "|       4.0|137864|\n",
      "+----------+------+\n",
      "\n"
     ]
    }
   ],
   "source": [
    "holdout_preds.groupby(\"prediction\").count().sort('count').show()"
   ]
  },
  {
   "cell_type": "markdown",
   "metadata": {},
   "source": [
    "##### False-Positive and True-Positive Rates:"
   ]
  },
  {
   "cell_type": "code",
   "execution_count": 84,
   "metadata": {},
   "outputs": [],
   "source": [
    "correct_pred = holdout_preds.filter(holdout_preds['ucd_short_c'] == holdout_preds['prediction'])\n",
    "incorrect_pred = holdout_preds.filter(holdout_preds['ucd_short_c'] != holdout_preds['prediction'])"
   ]
  },
  {
   "cell_type": "code",
   "execution_count": 85,
   "metadata": {},
   "outputs": [],
   "source": [
    "tpr = (correct_pred.count()) / (holdout_preds.count())\n",
    "fpr = (incorrect_pred.count()) / (holdout_preds.count())"
   ]
  },
  {
   "cell_type": "code",
   "execution_count": 86,
   "metadata": {},
   "outputs": [
    {
     "name": "stdout",
     "output_type": "stream",
     "text": [
      "True positive rate: 11.165%\n",
      "False positive rate: 88.835%\n"
     ]
    }
   ],
   "source": [
    "from builtins import round\n",
    "print('True positive rate: ' + str(round((tpr*100), 3)) + '%')\n",
    "print('False positive rate: ' + str(round((fpr*100), 3)) + '%')"
   ]
  },
  {
   "cell_type": "markdown",
   "metadata": {},
   "source": [
    "#### Random Forest Model"
   ]
  },
  {
   "cell_type": "code",
   "execution_count": 87,
   "metadata": {},
   "outputs": [],
   "source": [
    "# train_output = rf_model.transform(train_set)\n",
    "holdout_preds = rf_model.transform(cleanup)"
   ]
  },
  {
   "cell_type": "code",
   "execution_count": 88,
   "metadata": {},
   "outputs": [],
   "source": [
    "evaluator = MulticlassClassificationEvaluator(\n",
    "    labelCol=\"ucd_short_c\", predictionCol=\"prediction\", metricName=\"accuracy\")\n",
    "\n",
    "accuracy = evaluator.evaluate(holdout_preds)"
   ]
  },
  {
   "cell_type": "code",
   "execution_count": 89,
   "metadata": {},
   "outputs": [
    {
     "name": "stdout",
     "output_type": "stream",
     "text": [
      "Accuracy: 10.367295032914422%\n",
      "Test Error: 89.63270496708557%\n"
     ]
    }
   ],
   "source": [
    "print('Accuracy: ' + str(accuracy*100) + '%')\n",
    "print('Test Error: ' + str((1.0 - accuracy)*100) + '%')"
   ]
  },
  {
   "cell_type": "code",
   "execution_count": 90,
   "metadata": {},
   "outputs": [
    {
     "data": {
      "text/plain": [
       "534720"
      ]
     },
     "execution_count": 90,
     "metadata": {},
     "output_type": "execute_result"
    }
   ],
   "source": [
    "holdout_preds.count()"
   ]
  },
  {
   "cell_type": "code",
   "execution_count": 91,
   "metadata": {},
   "outputs": [
    {
     "name": "stdout",
     "output_type": "stream",
     "text": [
      "+----------+------+\n",
      "|prediction| count|\n",
      "+----------+------+\n",
      "|      12.0|   367|\n",
      "|       0.0|   619|\n",
      "|       9.0|  1820|\n",
      "|      19.0|  1944|\n",
      "|      13.0|  2133|\n",
      "|       3.0|  4411|\n",
      "|       6.0|  4696|\n",
      "|      11.0|  5867|\n",
      "|       2.0|  8706|\n",
      "|      18.0|  8916|\n",
      "|      17.0| 11866|\n",
      "|       8.0| 13724|\n",
      "|       7.0| 21310|\n",
      "|      10.0| 23033|\n",
      "|      20.0| 36138|\n",
      "|      16.0| 48455|\n",
      "|      14.0| 52033|\n",
      "|       5.0| 59483|\n",
      "|       1.0| 69884|\n",
      "|       4.0|159315|\n",
      "+----------+------+\n",
      "\n"
     ]
    }
   ],
   "source": [
    "holdout_preds.groupby(\"prediction\").count().sort('count').show()"
   ]
  },
  {
   "cell_type": "markdown",
   "metadata": {},
   "source": [
    "##### False-Positive and True-Positive Rates:"
   ]
  },
  {
   "cell_type": "code",
   "execution_count": 92,
   "metadata": {},
   "outputs": [],
   "source": [
    "correct_pred = holdout_preds.filter(holdout_preds['ucd_short_c'] == holdout_preds['prediction'])\n",
    "incorrect_pred = holdout_preds.filter(holdout_preds['ucd_short_c'] != holdout_preds['prediction'])"
   ]
  },
  {
   "cell_type": "code",
   "execution_count": 93,
   "metadata": {},
   "outputs": [],
   "source": [
    "tpr = (correct_pred.count()) / (holdout_preds.count())\n",
    "fpr = (incorrect_pred.count()) / (holdout_preds.count())"
   ]
  },
  {
   "cell_type": "code",
   "execution_count": 94,
   "metadata": {},
   "outputs": [
    {
     "name": "stdout",
     "output_type": "stream",
     "text": [
      "True positive rate: 10.367%\n",
      "False positive rate: 89.633%\n"
     ]
    }
   ],
   "source": [
    "print('True positive rate: ' + str(round((tpr*100), 3)) + '%')\n",
    "print('False positive rate: ' + str(round((fpr*100), 3)) + '%')"
   ]
  }
 ],
 "metadata": {
  "kernelspec": {
   "display_name": "DS 5559",
   "language": "python",
   "name": "ds5559"
  },
  "language_info": {
   "codemirror_mode": {
    "name": "ipython",
    "version": 3
   },
   "file_extension": ".py",
   "mimetype": "text/x-python",
   "name": "python",
   "nbconvert_exporter": "python",
   "pygments_lexer": "ipython3",
   "version": "3.7.6"
  }
 },
 "nbformat": 4,
 "nbformat_minor": 4
}
